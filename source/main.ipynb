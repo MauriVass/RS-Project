{
 "cells": [
  {
   "cell_type": "code",
   "execution_count": null,
   "metadata": {},
   "outputs": [],
   "source": [
    "import os\n",
    "import numpy as np\n",
    "# import scipy as \n",
    "import pandas as pd\n",
    "import pandapower as pp\n",
    "import math"
   ]
  },
  {
   "cell_type": "markdown",
   "metadata": {},
   "source": [
    "Functions"
   ]
  },
  {
   "cell_type": "code",
   "execution_count": null,
   "metadata": {},
   "outputs": [],
   "source": [
    "def ReadData(folder_name):\n",
    "\t\"\"\"\n",
    "\tReturn the network data as a dictionary: {key=name, data=pandas dataframe}\n",
    "\n",
    "\t:param kind: folder of the different files\n",
    "\t:type kind: str\n",
    "\t:raise lumache.InvalidKindError: If the kind is invalid.\n",
    "\t:return: dictionary with the data\n",
    "\t:rtype: dict\n",
    "\n",
    "\t\"\"\"\n",
    "\tdata = {}\n",
    "\textensions = ['txt', 'csv']\n",
    "\tfolder_path = os.path.join('../Data',folder_name)\n",
    "\t# iterate through all file\n",
    "\tfor file in os.listdir(folder_path):\n",
    "\t\t#File expected as \"name_file.file_extension\"\n",
    "\t\tfile_name, file_extension = file.split('.') \n",
    "\t\tif file_extension in extensions:\n",
    "\t\t\tfile_path = os.path.join(folder_path, file)\n",
    "\t\t\tfile_data = pd.read_csv(file_path)\n",
    "\t\t\tdata[file_name] = file_data\n",
    "\treturn data\n",
    "\n",
    "def ReadTimeseries(path_timeseries_data):\n",
    "\t\"\"\"\n",
    "\tReturn a \n",
    "\n",
    "\t:param kind: Optional \"kind\" of ingredients.\n",
    "\t:type kind: list[str] or None\n",
    "\t:raise lumache.InvalidKindError: If the kind is invalid.\n",
    "\t:return: The ingredients list.\n",
    "\t:rtype: list[str]\n",
    "\n",
    "\t\"\"\"\n",
    "\tdata = ''\n",
    "\treturn data\n",
    "\n",
    "def BuildNetwork(network_data):\n",
    "\t\"\"\"\n",
    "\tReturn a \n",
    "\n",
    "\t:param kind: Optional \"kind\" of ingredients.\n",
    "\t:type kind: list[str] or None\n",
    "\t:raise lumache.InvalidKindError: If the kind is invalid.\n",
    "\t:return: The ingredients list.\n",
    "\t:rtype: list[str]\n",
    "\n",
    "\t\"\"\"\n",
    "\n",
    "\tnet = pp.create_empty_network()\n",
    "\tfor elements,data in network_data.items():\n",
    "\t\tif(elements=='buses'):\n",
    "\t\t\tchoosable = []\n",
    "\t\t\tfor b in data.itertuples(index=False):\n",
    "\t\t\t\tid_bus = pp.create_bus(net, name = b[0], vn_kv = b[1], type = b[2])\n",
    "\t\t\t\tchoosable.append(id_bus%2) #TODO: find a more meaningful way to find the choosable buses\n",
    "\t\t\tnet.bus['choosable'] = choosable\n",
    "\t\telif(elements=='lines'):\n",
    "\t\t\tfor l in data.itertuples(index=False):\n",
    "\t\t\t\tpp.create_line(net, name = l[0], from_bus = l[1], to_bus = l[2], length_km = l[3], std_type = l[4])\n",
    "\t\telif(elements=='transformers'):\n",
    "\t\t\tfor t in data.itertuples(index=False):\n",
    "\t\t\t\tpp.create_transformer_from_parameters(net, hv_bus=t[0], lv_bus=t[1], i0_percent=t[2], pfe_kw=t[3],\n",
    "\t\t\t\t\t\t\t\t\t\tvkr_percent=t[4], sn_mva=t[5], vn_lv_kv=t[6], vn_hv_kv=t[7], vk_percent=t[8])\n",
    "\t\telif(elements=='loads'):\n",
    "\t\t\tfor l in data.itertuples(index=False):\n",
    "\t\t\t\tpp.create_load(net, l[0], p_mw = l[1], q_mvar = l[2], name = l[3])\n",
    "\tpp.create_ext_grid(net,0)\n",
    "\treturn net\n"
   ]
  },
  {
   "cell_type": "code",
   "execution_count": null,
   "metadata": {},
   "outputs": [],
   "source": [
    "#Scenarios\n",
    "\n",
    "#Nice example for PV hosting capacity\n",
    "#https://github.com/e2nIEE/pandapower/blob/develop/tutorials/hosting_capacity.ipynb\n",
    "def Chose_buses(net, percentuage):\n",
    "\t#TODO: can be more complex: you may want to exclude some buses (ext-grid bus, ...), attach a PV only where load is, ...\n",
    "\tchoosable_buses = net.bus[ net.bus['choosable'] == 1 ]\n",
    "\telements_to_select = percentuage if percentuage>=1 else round(len(choosable_buses)*percentuage) #fixed number (1, 4, ...) or percentuages of the total\n",
    "\treturn np.random.choice(net.bus.index, elements_to_select, replace=False)\n",
    "\n",
    "def PVscenario(net, percentuage):\n",
    "\tnew_net = net.deepcopy() #TODO Deepcopy solve the problems but there may be memory leaks. [old]This function return the original element (net) modified not a new element. Be careful\n",
    "\n",
    "\tids = Chose_buses(new_net, percentuage)\n",
    "\tp_mw = 7 #TODO: to be defined better. The active power generation of the sgen\n",
    "\n",
    "\tfor i in ids:\n",
    "\t\tpp.create_sgen(new_net, i, p_mw=p_mw, q_mvar=0)\n",
    "\treturn new_net\n"
   ]
  },
  {
   "cell_type": "code",
   "execution_count": null,
   "metadata": {},
   "outputs": [],
   "source": [
    "#Network Validation\n",
    "def IssueDetection(net):\n",
    "\tissues = {} #Dictionary of issues -> k: position (bus, line, ...), list of issues (OV, UV, ...)\n",
    "\n",
    "\t#TODO: change default values.\n",
    "\t#Over Voltage\n",
    "\tvm_pu_max = 1.05\n",
    "\tll_max = 50\n",
    "\n",
    "\tat_least_one_issue = False\n",
    "\t#TODO: many problems could happen so you may not want to have an if-else and not id but ids.\n",
    "\t# if net.res_line.loading_percent.max() > 50:\n",
    "\t# \tline_id = net.res_line.loading_percent.argmax()\n",
    "\t# \treturn (True, \"Line \\n Overloading\")\n",
    "\t# elif net.res_trafo.loading_percent.max() > 50:\n",
    "\t# \ttrafo_id = net.res_trafo.loading_percent.argmax()\n",
    "\t# \treturn (True, \"Transformer \\n Overloading\")\n",
    "\t# if net.res_bus.vm_pu.max() > 1.05:\n",
    "\t# \tbus_id = net.res_bus.vm_pu.argmax()\n",
    "\t# \treturn (True, \"Voltage \\n Violation\")\n",
    "\t# else:\n",
    "\t# \treturn (False, None)\n",
    "\n",
    "\t#OVER VOLTAGE\n",
    "\tov_issues = net.res_bus[ net.res_bus.vm_pu > vm_pu_max ]\n",
    "\tfor i in ov_issues.iterrows():\n",
    "\t\t\tid = i[0]\n",
    "\t\t\telement = i[1]\n",
    "\t\t\tissues[id] = [[element.vm_pu, 'OV']] #even better would be to add a number: 0:OV, 1:UV, ...\n",
    "\t\t\tat_least_one_issue = True\n",
    "\n",
    "\t#LINE LOADINGS\n",
    "\tll_issues = net.res_line[ net.res_line.loading_percent > ll_max ]\n",
    "\tfor i in ll_issues.iterrows():\n",
    "\t\t\tid = i[0]\n",
    "\t\t\telement = i[1]\t\t\t\n",
    "\t\t\tv = [element.loading_percent,'LoL']\n",
    "\t\t\tif(id in issues.keys()):\n",
    "\t\t\t\tissues[id].append(v)\n",
    "\t\t\telse:\n",
    "\t\t\t\tissues[id] = v\n",
    "\t\t\tat_least_one_issue = True\n",
    "\n",
    "\treturn issues, at_least_one_issue"
   ]
  },
  {
   "cell_type": "code",
   "execution_count": null,
   "metadata": {},
   "outputs": [],
   "source": [
    "def CalculatePossibleCombinations(net, num_changes):\n",
    "    choosable_elements = len(net.bus.choosable == True)\n",
    "    n_combinations = math.comb(choosable_elements, num_changes) # comb(n,m) = n! / [(n-m)!m!], n>m\n",
    "    return n_combinations"
   ]
  },
  {
   "cell_type": "markdown",
   "metadata": {},
   "source": [
    "Build Network"
   ]
  },
  {
   "cell_type": "code",
   "execution_count": null,
   "metadata": {},
   "outputs": [],
   "source": [
    "#Read network data\n",
    "path_network_data = 'Test'\n",
    "network_data = ReadData(path_network_data)"
   ]
  },
  {
   "cell_type": "code",
   "execution_count": null,
   "metadata": {},
   "outputs": [],
   "source": [
    "#Read timeseries\n",
    "path_timeseries_data = ''\n",
    "timeseries = ReadTimeseries(path_timeseries_data) #TODO: define timeseries\n",
    "timeseries = [1,2] #temp values"
   ]
  },
  {
   "cell_type": "code",
   "execution_count": null,
   "metadata": {},
   "outputs": [],
   "source": [
    "#Build the network\n",
    "net = BuildNetwork(network_data)"
   ]
  },
  {
   "cell_type": "code",
   "execution_count": null,
   "metadata": {},
   "outputs": [],
   "source": [
    "import pandapower.networks\n",
    "from pandapower.plotting.plotly import simple_plotly\n",
    "from pandapower.plotting.plotly import pf_res_plotly\n",
    "\n",
    "net = pp.networks.mv_oberrhein()\n",
    "_ = simple_plotly(net)\n",
    "net.bus['choosable'] = 1\n",
    "\n",
    "pp.runpp(net)\n",
    "_ = pf_res_plotly(net)"
   ]
  },
  {
   "cell_type": "markdown",
   "metadata": {},
   "source": [
    "Simulation"
   ]
  },
  {
   "cell_type": "code",
   "execution_count": null,
   "metadata": {},
   "outputs": [],
   "source": [
    "#Main\n",
    "\n",
    "#initialize variable to be used\n",
    "scenarios = ['PV', 'EV', 'HP', 'EVERYTHING'] #TODO: add others cases\n",
    "scenario = 'PV'\n",
    "\n",
    "num_changes = [1,2] #x* in Amina's report. Can be a list like [0%, 10%, ...] but PV, EV or ...?\n",
    "n_simulation_per_scenario = 2 #TODO: it can be a list [50, 1000, ...]\n",
    "timeseries = ['t1','t2'] #temp values"
   ]
  },
  {
   "cell_type": "code",
   "execution_count": null,
   "metadata": {},
   "outputs": [],
   "source": [
    "results = {} #TODO: can be a more complex stucture (class, ...)\n",
    "# [tech_change, n_simulation, time, loc, type]\n",
    "\n",
    "for x in num_changes:\n",
    "\tresult = {}\n",
    "\n",
    "\tn_combinations = CalculatePossibleCombinations(net, x)\n",
    "\tN = min(n_simulation_per_scenario,n_combinations)\n",
    "\tprint(f'X={x}. Simulationg for N={N} scenarios. (possible combinations: {n_combinations})')\n",
    "\tfor n in range( N ):\n",
    "\n",
    "\t\tissues = {}\n",
    "\t\t#Generate scenario - choose one possible scenario (s) out of the scenario space (S)\n",
    "\t\tif(scenario == scenarios[0]):\n",
    "\t\t\tnew_net = PVscenario(net,4)\n",
    "\t\telse:\n",
    "\t\t\t_ = 'blabla' #TODO: to add the different cases implementation\n",
    "\n",
    "\t\tfor t in timeseries:\n",
    "\t\t\t#TODO: Apply values for loads and sgen to the net\n",
    "\t\t\tpp.runpp(new_net)\n",
    "\t\t\t\n",
    "\t\t\ttemp_issues, at_least_one_issue = IssueDetection(new_net)\n",
    "\t\t\t# issues[t] = at_least_one_issue\n",
    "\t\t\tissues[t] = temp_issues if at_least_one_issue==True else False\n",
    "\n",
    "\t\tresult[n] = issues\n",
    "\t\t\n",
    "\tresults[x] = result"
   ]
  },
  {
   "cell_type": "code",
   "execution_count": null,
   "metadata": {},
   "outputs": [],
   "source": [
    "issues"
   ]
  },
  {
   "cell_type": "code",
   "execution_count": null,
   "metadata": {},
   "outputs": [],
   "source": [
    "results"
   ]
  },
  {
   "cell_type": "code",
   "execution_count": null,
   "metadata": {},
   "outputs": [],
   "source": [
    "# def ResultsAnalyser(results):\n",
    "techs = list(results.keys())\n",
    "scenarios = list(results.values())\n",
    "timesteps = scenarios[0]\n",
    "locations = 0\n",
    "problems = 0\n",
    "for t in timesteps.values():\n",
    "\tfor l in t.values():\n",
    "\t\tfor p in l.values():\n",
    "\t\t\tproblems += 1 if p==False else len(p)\n",
    "\t\tlocations+=len(l)\n",
    "print(f'Number of tested values(x): {len(techs)}\\n\\\n",
    "Number of tested scenarios: {len(scenarios)}\\n\\\n",
    "Number of time steps: {len(timesteps)}\\n\\\n",
    "Number of problematic location: {locations}\\n\\\n",
    "Number of problems: {problems}'\n",
    ")"
   ]
  },
  {
   "cell_type": "code",
   "execution_count": null,
   "metadata": {},
   "outputs": [],
   "source": [
    "scenarios[0]"
   ]
  },
  {
   "cell_type": "code",
   "execution_count": null,
   "metadata": {},
   "outputs": [],
   "source": [
    "ResultsAnalyser(results)"
   ]
  },
  {
   "cell_type": "code",
   "execution_count": null,
   "metadata": {},
   "outputs": [],
   "source": [
    "_ = pf_res_plotly(new_net)"
   ]
  },
  {
   "cell_type": "code",
   "execution_count": null,
   "metadata": {},
   "outputs": [],
   "source": [
    "list(results.keys())"
   ]
  },
  {
   "cell_type": "code",
   "execution_count": null,
   "metadata": {},
   "outputs": [],
   "source": []
  }
 ],
 "metadata": {
  "kernelspec": {
   "display_name": "Python 3.9.13 ('resa')",
   "language": "python",
   "name": "python3"
  },
  "language_info": {
   "codemirror_mode": {
    "name": "ipython",
    "version": 3
   },
   "file_extension": ".py",
   "mimetype": "text/x-python",
   "name": "python",
   "nbconvert_exporter": "python",
   "pygments_lexer": "ipython3",
   "version": "3.9.13"
  },
  "orig_nbformat": 4,
  "vscode": {
   "interpreter": {
    "hash": "46862f9f3a326249a2312acd78ffe7f45a22ca887e28840d3614e5a972824dd4"
   }
  }
 },
 "nbformat": 4,
 "nbformat_minor": 2
}
