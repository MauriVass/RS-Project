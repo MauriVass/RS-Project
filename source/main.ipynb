{
 "cells": [
  {
   "cell_type": "code",
   "execution_count": null,
   "metadata": {},
   "outputs": [],
   "source": [
    "import os\n",
    "import numpy as np\n",
    "# import scipy as \n",
    "import pandas as pd\n",
    "import pandapower as pp"
   ]
  },
  {
   "cell_type": "code",
   "execution_count": null,
   "metadata": {},
   "outputs": [],
   "source": [
    "def ReadData(folder_name):\n",
    "\t\"\"\"\n",
    "\tReturn the network data as a dictionary: {key=name, data=pandas dataframe}\n",
    "\n",
    "\t:param kind: folder of the different files\n",
    "\t:type kind: str\n",
    "\t:raise lumache.InvalidKindError: If the kind is invalid.\n",
    "\t:return: dictionary with the data\n",
    "\t:rtype: dict\n",
    "\n",
    "\t\"\"\"\n",
    "\tdata = {}\n",
    "\textensions = ['txt', 'csv']\n",
    "\tfolder_path = os.path.join('../Data',folder_name)\n",
    "\t# iterate through all file\n",
    "\tfor file in os.listdir(folder_path):\n",
    "\t\t#File expected as \"name_file.file_extension\"\n",
    "\t\tfile_name, file_extension = file.split('.') \n",
    "\t\tif file_extension in extensions:\n",
    "\t\t\tfile_path = os.path.join(folder_path, file)\n",
    "\t\t\tfile_data = pd.read_csv(file_path)\n",
    "\t\t\tdata[file_name] = file_data\n",
    "\treturn data\n",
    "\n",
    "def ReadTimeseries(path_timeseries_data):\n",
    "\t\"\"\"\n",
    "\tReturn a \n",
    "\n",
    "\t:param kind: Optional \"kind\" of ingredients.\n",
    "\t:type kind: list[str] or None\n",
    "\t:raise lumache.InvalidKindError: If the kind is invalid.\n",
    "\t:return: The ingredients list.\n",
    "\t:rtype: list[str]\n",
    "\n",
    "\t\"\"\"\n",
    "\tdata = ''\n",
    "\treturn data\n",
    "\n",
    "def BuildNetwork(network_data):\n",
    "\t\"\"\"\n",
    "\tReturn a \n",
    "\n",
    "\t:param kind: Optional \"kind\" of ingredients.\n",
    "\t:type kind: list[str] or None\n",
    "\t:raise lumache.InvalidKindError: If the kind is invalid.\n",
    "\t:return: The ingredients list.\n",
    "\t:rtype: list[str]\n",
    "\n",
    "\t\"\"\"\n",
    "\n",
    "\tnet = pp.create_empty_network()\n",
    "\tfor elements,data in network_data.items():\n",
    "\t\tif(elements=='buses'):\n",
    "\t\t\tfor b in data.itertuples(index=False):\n",
    "\t\t\t\tpp.create_bus(net, name = b[0], vn_kv = b[1], type = b[2])\n",
    "\t\telif(elements=='lines'):\n",
    "\t\t\tfor l in data.itertuples(index=False):\n",
    "\t\t\t\tpp.create_line(net, name = l[0], from_bus = l[1], to_bus = l[2], length_km = l[3], std_type = l[4])\n",
    "\t\telif(elements=='transformers'):\n",
    "\t\t\tfor t in data.itertuples(index=False):\n",
    "\t\t\t\tpp.create_transformer_from_parameters(net, hv_bus=t[0], lv_bus=t[1], i0_percent=t[2], pfe_kw=t[3],\n",
    "\t\t\t\t\t\t\t\t\t\tvkr_percent=t[4], sn_mva=t[5], vn_lv_kv=t[6], vn_hv_kv=t[7], vk_percent=t[8])\n",
    "\t\telif(elements=='loads'):\n",
    "\t\t\tfor l in data.itertuples(index=False):\n",
    "\t\t\t\tpp.create_load(net, l[0], p_mw = l[1], q_mvar = l[2], name = l[3])\n",
    "\tpp.create_ext_grid(net,0)\n",
    "\treturn net"
   ]
  },
  {
   "cell_type": "code",
   "execution_count": null,
   "metadata": {},
   "outputs": [],
   "source": [
    "#Scenarios\n",
    "\n",
    "#Nice example for PV hosting capacity\n",
    "#https://github.com/e2nIEE/pandapower/blob/develop/tutorials/hosting_capacity.ipynb\n",
    "def Chose_buses(net, p):\n",
    "\t#ToDo: can be more complex: you may want to exclude some buses (ext-grid bus, ...), attach a PV only where load is, ...\n",
    "\tp = p if p>=1 else round(len(net.bus)*p) #Add a fixed number (1, 4, ...) or percentuages of the total\n",
    "\treturn np.random.choice(net.bus.index, p)\n",
    "\n",
    "def PVscenario(net, percentuage):\n",
    "\tnew_net = net.deepcopy() #ToDo Deepcopy solve the problems but there may be memory leaks. [old]This function return the original element (net) modified not a new element. Take attention\n",
    "\tids = Chose_buses(new_net, percentuage)\n",
    "\t### Bus ###\n",
    "\tvn_kv = 240 #ToDo: to be defined better. It can depend on the bus itself\n",
    "\tbus_type = 'b'\n",
    "\t### Line ###\n",
    "\tlength = 1 #ToDo: to be defined better. The length of the line [km]\n",
    "\tstd_type = 'NAYY 4x150 SE'\n",
    "\t### Sgen ###\n",
    "\tp_mw = 1 #ToDo: to be defined better. The active generation of the sgen\n",
    "\tfor i in ids:\n",
    "\t\tnew_bus_id = pp.create_bus(new_net, name = 'new bus: ' + str(i), vn_kv = vn_kv, type = bus_type)\n",
    "\t\tpp.create_line(new_net, name = 'new line: ' + str(i), from_bus = i, to_bus = new_bus_id, length_km = length, std_type = std_type)\n",
    "\t\tpp.create_sgen(new_net, new_bus_id, p_mw=p_mw, q_mvar=0)\n",
    "\treturn new_net\n",
    "\t"
   ]
  },
  {
   "cell_type": "code",
   "execution_count": 120,
   "metadata": {},
   "outputs": [],
   "source": [
    "#Network Validation\n",
    "def NetworkValidation(net):\n",
    "\t#ToDo: change default values.\n",
    "\t#ToDo: many problems could happen so you may not want to have an if-else and not id but ids.\n",
    "\tif net.res_line.loading_percent.max() > 50:\n",
    "\t\tline_id = net.res_line.loading_percent.argmax()\n",
    "\t\treturn (True, \"Line \\n Overloading\")\n",
    "\telif net.res_trafo.loading_percent.max() > 50:\n",
    "\t\ttrafo_id = net.res_trafo.loading_percent.argmax()\n",
    "\t\treturn (True, \"Transformer \\n Overloading\")\n",
    "\telif net.res_bus.vm_pu.max() > 1.04:\n",
    "\t\tbus_id = net.res_bus.vm_pu.argmax()\n",
    "\t\treturn (True, \"Voltage \\n Violation\")\n",
    "\telse:\n",
    "\t\treturn (False, None)"
   ]
  },
  {
   "cell_type": "code",
   "execution_count": null,
   "metadata": {},
   "outputs": [],
   "source": [
    "#Main\n",
    "\n",
    "#initialize variable to be used\n",
    "scenarios = ['PV', 'EV'] #ToDo: add others cases\n",
    "scenario = 'PV'\n",
    "\n",
    "n_simulation_per_scenario = 1 #ToDo: it can be a list [50, 1000, ...]\n",
    "\n",
    "issues, positions, times = [],[],[] #ToDo: can be a more complex stucture (class, ...)\n"
   ]
  },
  {
   "cell_type": "code",
   "execution_count": null,
   "metadata": {},
   "outputs": [],
   "source": [
    "#Read network data\n",
    "path_network_data = 'Test'\n",
    "network_data = ReadData(path_network_data)"
   ]
  },
  {
   "cell_type": "code",
   "execution_count": null,
   "metadata": {},
   "outputs": [],
   "source": [
    "#Read timeseries\n",
    "path_timeseries_data = ''\n",
    "timeseries = ReadTimeseries(path_timeseries_data) #ToDo: define timeseries\n",
    "timeseries = [1,2] #temp values"
   ]
  },
  {
   "cell_type": "code",
   "execution_count": 114,
   "metadata": {},
   "outputs": [],
   "source": [
    "#Build the network\n",
    "net = BuildNetwork(network_data)"
   ]
  },
  {
   "cell_type": "code",
   "execution_count": null,
   "metadata": {},
   "outputs": [],
   "source": [
    "new_net = PVscenario(net,1)"
   ]
  },
  {
   "cell_type": "code",
   "execution_count": null,
   "metadata": {},
   "outputs": [],
   "source": [
    "from pandapower.plotting.plotly import simple_plotly\n",
    "plot = simple_plotly(net)"
   ]
  },
  {
   "cell_type": "code",
   "execution_count": 121,
   "metadata": {},
   "outputs": [
    {
     "name": "stderr",
     "output_type": "stream",
     "text": [
      "numba cannot be imported and numba functions are disabled.\n",
      "Probably the execution is slow.\n",
      "Please install numba to gain a massive speedup.\n",
      "(or if you prefer slow execution, set the flag numba=False to avoid this warning!)\n",
      "\n"
     ]
    }
   ],
   "source": [
    "for n in range(n_simulation_per_scenario):\n",
    "\tfor t in timeseries:\n",
    "\t\t# net = BuildNetwork(network_data)\n",
    "\t\tif(scenario == scenarios[0]):\n",
    "\t\t\tnew_net = PVscenario(net,1)\n",
    "\t\telse:\n",
    "\t\t\ta = 'blabla' #ToDo: to add the different cases implementation\n",
    "\t\tpp.runpp(new_net)\n",
    "\t\tissues = NetworkValidation(new_net)\n",
    "\t\tbreak\n"
   ]
  },
  {
   "cell_type": "code",
   "execution_count": null,
   "metadata": {},
   "outputs": [],
   "source": []
  }
 ],
 "metadata": {
  "kernelspec": {
   "display_name": "Python ('resa')",
   "language": "python",
   "name": "python3"
  },
  "language_info": {
   "codemirror_mode": {
    "name": "ipython",
    "version": 3
   },
   "file_extension": ".py",
   "mimetype": "text/x-python",
   "name": "python",
   "nbconvert_exporter": "python",
   "pygments_lexer": "ipython3",
   "version": "3.9.4"
  },
  "orig_nbformat": 4,
  "vscode": {
   "interpreter": {
    "hash": "25a19fbe0a9132dfb9279d48d161753c6352f8f9478c2e74383d340069b907c3"
   }
  }
 },
 "nbformat": 4,
 "nbformat_minor": 2
}
