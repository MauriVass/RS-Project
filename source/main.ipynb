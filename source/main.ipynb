{
 "cells": [
  {
   "cell_type": "code",
   "execution_count": null,
   "metadata": {},
   "outputs": [],
   "source": [
    "import os\n",
    "import numpy as np\n",
    "# import scipy as \n",
    "import pandas as pd\n",
    "import pandapower as pp\n",
    "import math"
   ]
  },
  {
   "cell_type": "markdown",
   "metadata": {},
   "source": [
    "Functions"
   ]
  },
  {
   "cell_type": "code",
   "execution_count": null,
   "metadata": {},
   "outputs": [],
   "source": [
    "def ReadData(folder_name):\n",
    "\t\"\"\"\n",
    "\tReturn the network data as a dictionary: {key=name, data=pandas dataframe}\n",
    "\n",
    "\t:param kind: folder of the different files\n",
    "\t:type kind: str\n",
    "\t:raise lumache.InvalidKindError: If the kind is invalid.\n",
    "\t:return: dictionary with the data\n",
    "\t:rtype: dict\n",
    "\n",
    "\t\"\"\"\n",
    "\tdata = {}\n",
    "\textensions = ['txt', 'csv']\n",
    "\tfolder_path = os.path.join('../Data',folder_name)\n",
    "\t# iterate through all file\n",
    "\tfor file in os.listdir(folder_path):\n",
    "\t\t#File expected as \"name_file.file_extension\"\n",
    "\t\tfile_name, file_extension = file.split('.') \n",
    "\t\tif file_extension in extensions:\n",
    "\t\t\tfile_path = os.path.join(folder_path, file)\n",
    "\t\t\tfile_data = pd.read_csv(file_path)\n",
    "\t\t\tdata[file_name] = file_data\n",
    "\treturn data\n",
    "\n",
    "def ReadTimeseries(path_timeseries_data):\n",
    "\t\"\"\"\n",
    "\tReturn a \n",
    "\n",
    "\t:param kind: Optional \"kind\" of ingredients.\n",
    "\t:type kind: list[str] or None\n",
    "\t:raise lumache.InvalidKindError: If the kind is invalid.\n",
    "\t:return: The ingredients list.\n",
    "\t:rtype: list[str]\n",
    "\n",
    "\t\"\"\"\n",
    "\tdata = ''\n",
    "\treturn data\n",
    "\n",
    "def BuildNetwork(network_data):\n",
    "\t\"\"\"\n",
    "\tReturn a \n",
    "\n",
    "\t:param kind: Optional \"kind\" of ingredients.\n",
    "\t:type kind: list[str] or None\n",
    "\t:raise lumache.InvalidKindError: If the kind is invalid.\n",
    "\t:return: The ingredients list.\n",
    "\t:rtype: list[str]\n",
    "\n",
    "\t\"\"\"\n",
    "\n",
    "\tnet = pp.create_empty_network()\n",
    "\tfor elements,data in network_data.items():\n",
    "\t\tif(elements=='buses'):\n",
    "\t\t\tchoosable = []\n",
    "\t\t\tfor b in data.itertuples(index=False):\n",
    "\t\t\t\tid_bus = pp.create_bus(net, name = b[0], vn_kv = b[1], type = b[2])\n",
    "\t\t\t\tchoosable.append(id_bus%2) #TODO: find a more meaningful way to find the choosable buses\n",
    "\t\t\tnet.bus['choosable'] = choosable\n",
    "\t\telif(elements=='lines'):\n",
    "\t\t\tfor l in data.itertuples(index=False):\n",
    "\t\t\t\tpp.create_line(net, name = l[0], from_bus = l[1], to_bus = l[2], length_km = l[3], std_type = l[4])\n",
    "\t\telif(elements=='transformers'):\n",
    "\t\t\tfor t in data.itertuples(index=False):\n",
    "\t\t\t\tpp.create_transformer_from_parameters(net, hv_bus=t[0], lv_bus=t[1], i0_percent=t[2], pfe_kw=t[3],\n",
    "\t\t\t\t\t\t\t\t\t\tvkr_percent=t[4], sn_mva=t[5], vn_lv_kv=t[6], vn_hv_kv=t[7], vk_percent=t[8])\n",
    "\t\telif(elements=='loads'):\n",
    "\t\t\tfor l in data.itertuples(index=False):\n",
    "\t\t\t\tpp.create_load(net, l[0], p_mw = l[1], q_mvar = l[2], name = l[3])\n",
    "\tpp.create_ext_grid(net,0)\n",
    "\treturn net\n"
   ]
  },
  {
   "cell_type": "code",
   "execution_count": null,
   "metadata": {},
   "outputs": [],
   "source": [
    "#Scenarios\n",
    "\n",
    "#Nice example for PV hosting capacity\n",
    "#https://github.com/e2nIEE/pandapower/blob/develop/tutorials/hosting_capacity.ipynb\n",
    "def Chose_buses(net, percentuage, use_weights):\n",
    "\t#TODO: can be more complex: you may want to exclude some buses (ext-grid bus, ...), attach a PV only where load is, ...\n",
    "\tchoosable_buses = net.bus[ net.bus['choosable'] == 1 ]\n",
    "\telements_to_select = np.min([percentuage, len(choosable_buses)]) if percentuage>=1 else round(len(choosable_buses)*percentuage) #fixed number (1, 4, ...) or percentuages of the total\n",
    "\tif(use_weights == False):\n",
    "\t\tresult = np.random.choice(net.bus.index, elements_to_select, replace=False)\n",
    "\telse:\n",
    "\t\tp = choosable_buses[use_weights]\n",
    "\t\tp = p / np.sum(p) #Make the sum of p equal to 1 (Required by numpy)\n",
    "\t\tresult = np.random.choice(choosable_buses.index, elements_to_select, replace=False, p=p)\n",
    "\treturn result\n",
    "\n",
    "def PVscenario(net, p_mw, percentuage, use_weights=False):\n",
    "\tnew_net = net.deepcopy() #TODO Deepcopy solve the problems but it may lead to memory leaks. [old]This function return the original element (net) modified not a new element. Be careful\n",
    "\n",
    "\tids = Chose_buses(new_net, percentuage, use_weights)\n",
    "\n",
    "\tfor i in ids:\n",
    "\t\tpp.create_sgen(new_net, i, p_mw=p_mw, q_mvar=0)\n",
    "\treturn new_net\n"
   ]
  },
  {
   "cell_type": "code",
   "execution_count": null,
   "metadata": {},
   "outputs": [],
   "source": [
    "#Network Validation\n",
    "def IssueDetection(net):\n",
    "\tissues = {} #Dictionary of issues -> k: position (bus, line, ...), list of issues (OV, UV, ...)\n",
    "\n",
    "\t#TODO: change default values.\n",
    "\t#Over Voltage\n",
    "\tvm_pu_max = 1.05\n",
    "\tll_max = 45\n",
    "\n",
    "\tat_least_one_issue = False\n",
    "\n",
    "\t#OVER VOLTAGE\n",
    "\tov_issues = net.res_bus[ net.res_bus.vm_pu > vm_pu_max ]\n",
    "\tfor i in ov_issues.iterrows():\n",
    "\t\t\tid = i[0]\n",
    "\t\t\telement = i[1]\n",
    "\t\t\tissues[f'Node {id}'] = [['OV', element.vm_pu]]\n",
    "\t\t\tat_least_one_issue = True\n",
    "\n",
    "\t#LINE LOADINGS\n",
    "\tll_issues = net.res_line[ net.res_line.loading_percent > ll_max ]\n",
    "\tfor i in ll_issues.iterrows():\n",
    "\t\t\tid = i[0]\n",
    "\t\t\telement = i[1]\t\t\t\n",
    "\t\t\t# v = ['LoL', element.loading_percent]\n",
    "\t\t\t# if(id in issues.keys()): #line and node may have the same id number (semi issue #0)\n",
    "\t\t\t# \tissues[id].append(v)\n",
    "\t\t\t# else:\n",
    "\t\t\t# \tissues[id] = [v]\n",
    "\t\t\tissues[f'Line {id}'] = [['LoL', element.loading_percent]] #This solves the 'semi issue #0'. It is even more informative\n",
    "\t\t\tat_least_one_issue = True\n",
    "\n",
    "\treturn issues, at_least_one_issue"
   ]
  },
  {
   "cell_type": "code",
   "execution_count": null,
   "metadata": {},
   "outputs": [],
   "source": [
    "def CalculatePossibleCombinations(net, num_changes):\n",
    "    choosable_elements = len(net.bus.choosable == True)\n",
    "    n_combinations = math.comb(choosable_elements, num_changes) # comb(n,m) = n! / [(n-m)!m!], n>m\n",
    "    return n_combinations"
   ]
  },
  {
   "cell_type": "markdown",
   "metadata": {},
   "source": [
    "Build Network"
   ]
  },
  {
   "cell_type": "code",
   "execution_count": null,
   "metadata": {},
   "outputs": [],
   "source": [
    "#Read network data\n",
    "path_network_data = 'Test'\n",
    "network_data = ReadData(path_network_data)"
   ]
  },
  {
   "cell_type": "code",
   "execution_count": null,
   "metadata": {},
   "outputs": [],
   "source": [
    "#Read timeseries\n",
    "path_timeseries_data = ''\n",
    "timeseries = ReadTimeseries(path_timeseries_data) #TODO: define timeseries\n",
    "timeseries = [1,2] #temp values"
   ]
  },
  {
   "cell_type": "code",
   "execution_count": null,
   "metadata": {},
   "outputs": [],
   "source": [
    "net = BuildNetwork(network_data)"
   ]
  },
  {
   "cell_type": "code",
   "execution_count": null,
   "metadata": {},
   "outputs": [],
   "source": [
    "#Tmp network\n",
    "import pandapower.networks\n",
    "from pandapower.plotting.plotly import simple_plotly\n",
    "from pandapower.plotting.plotly import pf_res_plotly\n",
    "\n",
    "# net = pp.networks.mv_oberrhein()\n",
    "net = pp.networks.create_cigre_network_lv()\n",
    "_ = simple_plotly(net)\n",
    "net.bus['choosable'] = 1\n",
    "\n",
    "# pp.runpp(net)\n",
    "# _ = pf_res_plotly(net)"
   ]
  },
  {
   "cell_type": "code",
   "execution_count": null,
   "metadata": {},
   "outputs": [],
   "source": [
    "#Find distance between buses and ext grid/s\n",
    "import pandapower.topology as top\n",
    "\n",
    "distances = top.calc_distance_to_bus(net, 0)\n",
    "net.bus['distance (km)'] = distances\n",
    "#Normalize between [d_min, d_max]\n",
    "b_min = np.min(distances) #minimum of the measurements\n",
    "b_max = np.max(distances) #maximum of the measurements\n",
    "d_min = 0.0 #minimum of the wanted range \n",
    "d_max = 0.7 #maximum of the wanted range\n",
    "net.bus['distance (norm)'] = (distances - b_min) / (b_max - b_min) * (d_max - d_min) + d_min"
   ]
  },
  {
   "cell_type": "markdown",
   "metadata": {},
   "source": [
    "Simulation"
   ]
  },
  {
   "cell_type": "code",
   "execution_count": null,
   "metadata": {},
   "outputs": [],
   "source": [
    "#Main\n",
    "\n",
    "#initialize variable to be used\n",
    "scenarios_type = ['PV', 'EV', 'HP', 'EVERYTHING'] #TODO: add others cases\n",
    "scenario = 'PV'\n",
    "\n",
    "num_changes = range(1,30) #x* in Amina's report. Can be a list like [0%, 10%, ...] but PV, EV or ...?\n",
    "n_simulation_per_scenario = 10 #TODO: it can be a list [50, 1000, ...]\n",
    "timeseries = ['t1'] #temp values"
   ]
  },
  {
   "cell_type": "code",
   "execution_count": null,
   "metadata": {},
   "outputs": [],
   "source": [
    "import time\n",
    "print(f'Num power flow calculations: {len(num_changes) * (n_simulation_per_scenario) * len(timeseries)}')\n",
    "slow = False\n",
    "wait_secs = 1\n",
    "results = {} #TODO: can be a more complex stucture (class, ...)\n",
    "#Dimention: [tech_change, n_simulation, time, loc, type]\n",
    "scenario = 'PV'\n",
    "\n",
    "for x in num_changes:\n",
    "\tresult = {}\n",
    "\n",
    "\tn_combinations = CalculatePossibleCombinations(net, x)\n",
    "\tN = min(n_simulation_per_scenario, n_combinations)\n",
    "\t# print(f'X={x}. Simulationg for N={N} scenarios. (possible combinations: {n_combinations})')\n",
    "\tfor n in range(N):\n",
    "\n",
    "\t\tissues = {}\n",
    "\t\t#Generate scenario - choose one possible scenario (s) out of the scenario space (S)\n",
    "\t\tif(scenario == scenarios_type[0]):\n",
    "\t\t\tnew_net = PVscenario(net, p_mw=20/1000, percentuage=(x+1), use_weights = 'distance (norm)')\n",
    "\t\telse:\n",
    "\t\t\t_ = 'blabla' #TODO: to add the different cases implementation\n",
    "\n",
    "\t\t\n",
    "\n",
    "\t\tfor t in timeseries:\n",
    "\t\t\t#TODO: Apply values for loads and sgen to the net\n",
    "\t\t\tpp.runpp(new_net)\n",
    "\t\t\t\n",
    "\t\t\ttemp_issues, at_least_one_issue = IssueDetection(new_net)\n",
    "\n",
    "\t\t\t#1. Store only True/False\n",
    "\t\t\t# issues[t] = at_least_one_issue\n",
    "\t\t\t#2. Store all the issues or False if no issue is present\n",
    "\t\t\tissues[t] = temp_issues if at_least_one_issue==True else False\n",
    "\t\t\t#3. Store everithing\n",
    "\t\t\tissues[t] = new_net.res_bus.vm_pu\n",
    "\t\t\n",
    "\t\tresult[n] = issues\n",
    "\n",
    "\tif slow:\n",
    "\t\t_ = pf_res_plotly(new_net, figsize=0.5)\n",
    "\t\ttime.sleep(wait_secs)\n",
    "\n",
    "\n",
    "\tresults[x] = result"
   ]
  },
  {
   "cell_type": "code",
   "execution_count": null,
   "metadata": {},
   "outputs": [],
   "source": [
    "issues"
   ]
  },
  {
   "cell_type": "code",
   "execution_count": null,
   "metadata": {},
   "outputs": [],
   "source": [
    "results"
   ]
  },
  {
   "cell_type": "code",
   "execution_count": null,
   "metadata": {},
   "outputs": [],
   "source": [
    "def ResultsAnalyser(results):\n",
    "\ttotal_locations = 0\n",
    "\ttotal_problems = 0\n",
    "\tcapacities = results.items()\n",
    "\tfor capacity, scenarios in capacities:\n",
    "\t\tprint(f'### Results for capacity {capacity}: ###')\n",
    "\t\tfor scenario, timesteps in scenarios.items():\n",
    "\t\t\tprint(f'\\tScenario: {scenario}')\n",
    "\t\t\tfor timestep, locations in timesteps.items():\n",
    "\t\t\t\tprint(f'\\t\\tTimestep: {timestep}')\n",
    "\t\t\t\tif(locations!=False):\n",
    "\t\t\t\t\tprint(f'\\t\\t\\tProblems in {len(locations)} locations. IDs: {sorted(set(locations))}')\n",
    "\t\t\t\t\ttotal_locations += len(locations)\n",
    "\n",
    "\t\t\t\t\ttype_issues = set()\n",
    "\t\t\t\t\tfor issues in locations.values():\n",
    "\t\t\t\t\t\t[type_issues.add(i[0]) for i in issues]\n",
    "\t\t\t\t\t\ttotal_problems += len(issues)\n",
    "\t\t\t\t\tprint(f'\\t\\t\\tType(s) of issue(s): {type_issues}')\n",
    "\t\t\t\telse: print('\\t\\t\\tNo issues')\n",
    "\n",
    "\t\tprint()\n",
    "\n",
    "\tprint(f\"Total number of 'problematic' locations: {total_locations}\")\n",
    "\tprint(f\"Total number of problems: {total_problems}\")\n",
    "ResultsAnalyser(results)"
   ]
  },
  {
   "cell_type": "code",
   "execution_count": null,
   "metadata": {},
   "outputs": [],
   "source": [
    "import seaborn as sns\n",
    "\n",
    "data = {}\n",
    "capacities = results.items()\n",
    "for capacity, scenarios in capacities:\n",
    "    data[capacity] = []\n",
    "    d = []\n",
    "    for scenario, timesteps in scenarios.items():\n",
    "        for timestep, voltages in timesteps.items():\n",
    "            d.extend(voltages)\n",
    "    data[capacity] = d"
   ]
  },
  {
   "cell_type": "code",
   "execution_count": null,
   "metadata": {},
   "outputs": [],
   "source": [
    "import plotly.graph_objects as go\n",
    "\n",
    "fig = go.Figure()\n",
    "df = pd.DataFrame(data)\n",
    "df = df.drop([0,1]) #Remove Trafo nad Ext_grid\n",
    "\n",
    "for i in df.columns:\n",
    "    fig.add_trace(go.Violin(y=df[i], name=i, points=False ))\n",
    "    fig.add_trace(go.Box(y=df[i], name=i, boxpoints=False))\n",
    "    fig.add_trace(go.Scatter(x=[i], y=[np.max(df[i])], showlegend=False ))\n",
    "fig.add_hline(y=1.05)\n",
    "\n",
    "fig.update_layout(\n",
    "    title=\"\",\n",
    "    xaxis_title=\"Capacity (Number of PV added)\",\n",
    "    yaxis_title=\"Voltage level [p.u.]\",\n",
    "    legend_title=\"\"\n",
    ")\n",
    "\n",
    "fig.show()"
   ]
  },
  {
   "cell_type": "code",
   "execution_count": null,
   "metadata": {},
   "outputs": [],
   "source": [
    "df = pd.read_csv(\"https://raw.githubusercontent.com/plotly/datasets/master/violin_data.csv\")"
   ]
  },
  {
   "cell_type": "code",
   "execution_count": null,
   "metadata": {},
   "outputs": [],
   "source": [
    "df"
   ]
  },
  {
   "cell_type": "code",
   "execution_count": null,
   "metadata": {},
   "outputs": [],
   "source": [
    "df = pd.DataFrame(data)\n",
    "d"
   ]
  },
  {
   "cell_type": "code",
   "execution_count": null,
   "metadata": {},
   "outputs": [],
   "source": [
    "list(df.columns)"
   ]
  },
  {
   "cell_type": "code",
   "execution_count": null,
   "metadata": {},
   "outputs": [],
   "source": [
    "list(np.max(df))"
   ]
  },
  {
   "cell_type": "code",
   "execution_count": null,
   "metadata": {},
   "outputs": [],
   "source": [
    "_ = pf_res_plotly(new_net)"
   ]
  },
  {
   "cell_type": "code",
   "execution_count": null,
   "metadata": {},
   "outputs": [],
   "source": [
    "pf_res_plotly(net)"
   ]
  },
  {
   "cell_type": "code",
   "execution_count": null,
   "metadata": {},
   "outputs": [],
   "source": []
  }
 ],
 "metadata": {
  "kernelspec": {
   "display_name": "Python 3.9.13 ('resa')",
   "language": "python",
   "name": "python3"
  },
  "language_info": {
   "codemirror_mode": {
    "name": "ipython",
    "version": 3
   },
   "file_extension": ".py",
   "mimetype": "text/x-python",
   "name": "python",
   "nbconvert_exporter": "python",
   "pygments_lexer": "ipython3",
   "version": "3.9.13"
  },
  "orig_nbformat": 4,
  "vscode": {
   "interpreter": {
    "hash": "46862f9f3a326249a2312acd78ffe7f45a22ca887e28840d3614e5a972824dd4"
   }
  }
 },
 "nbformat": 4,
 "nbformat_minor": 2
}
