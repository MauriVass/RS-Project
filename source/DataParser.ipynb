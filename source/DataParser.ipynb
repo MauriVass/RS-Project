{
 "cells": [
  {
   "cell_type": "markdown",
   "metadata": {},
   "source": [
    "Keywords:\n",
    "- TODO: things missing or to be checked\n",
    "- ASSUMPTIONS: any assumptions taken on the implementation"
   ]
  },
  {
   "cell_type": "code",
   "execution_count": null,
   "metadata": {},
   "outputs": [],
   "source": [
    "import pandas as pd\n",
    "import geopandas as gpd\n",
    "import matplotlib.pyplot as plt\n",
    "from pandapower.plotting.plotly import simple_plotly"
   ]
  },
  {
   "cell_type": "code",
   "execution_count": null,
   "metadata": {},
   "outputs": [],
   "source": [
    "import donotcommit\n",
    "ean_coor, \\\n",
    "    armoire_resa, coupe_liste_resa, lg_rappel, noms_voiries, postes_resa, supports_resa, troncon_resa, voirie_bord, \\\n",
    "    under_lines, under_points, under_polys, \\\n",
    "sub_tfo, \\\n",
    "    m105, \\\n",
    "    bi_assets = donotcommit.ImportPaths()\n",
    "\n",
    "gis_ean_coor = pd.read_csv(ean_coor)\n",
    "\n",
    "gis_over_armoire_points = gpd.read_file(armoire_resa)\n",
    "gis_over_coupe_liste_points = gpd.read_file(coupe_liste_resa)\n",
    "gis_over_lg_rappel_lines = gpd.read_file(lg_rappel)\n",
    "gis_over_noms_voiries_lines = gpd.read_file(noms_voiries)\n",
    "gis_over_postes_points = gpd.read_file(postes_resa)\n",
    "gis_over_supports_points = gpd.read_file(supports_resa)\n",
    "gis_over_troncon_lines = gpd.read_file(troncon_resa)\n",
    "gis_over_voirie_bord_lines = gpd.read_file(voirie_bord)\n",
    "\n",
    "#Underground cables\n",
    "gis_under_lines = gpd.read_file(under_lines)\n",
    "gis_under_points = gpd.read_file(under_points)\n",
    "gis_under_polys = gpd.read_file(under_polys)\n",
    "\n",
    "df_sub_tfo = pd.read_excel(sub_tfo)\n",
    "df_consumption = pd.read_excel(m105)\n",
    "df_bi_assets = pd.read_excel(bi_assets)\n",
    "\n",
    "city_of_interest = donotcommit.CityofInterest()\n",
    "\n",
    "\n",
    "# gis_over_armoire_points['length'] = gis_over_armoire_points.length\n",
    "gis_over_coupe_liste_points['length'] = gis_over_coupe_liste_points.length\n",
    "gis_over_lg_rappel_lines['length'] = gis_over_lg_rappel_lines.length\n",
    "gis_over_noms_voiries_lines['length'] = gis_over_noms_voiries_lines.length\n",
    "# gis_over_postes_points['length'] = gis_over_postes_points.length\n",
    "# gis_over_supports_points['length'] = gis_over_supports_points.length\n",
    "gis_over_troncon_lines['length'] = gis_over_troncon_lines.length\n",
    "gis_over_voirie_bord_lines['length'] = gis_over_voirie_bord_lines.length\n",
    "\n",
    "gis_under_lines['length'] = gis_under_lines.length"
   ]
  },
  {
   "cell_type": "code",
   "execution_count": null,
   "metadata": {},
   "outputs": [],
   "source": [
    "def ExploreDF(df, isgis):\n",
    "    print('Sample DF:')\n",
    "    print(df.head(2), '\\n')\n",
    "    print('Columns: ', list(df.columns), '\\n')\n",
    "    print(df.shape, '\\n')\n",
    "    null_values = df.isnull().sum()\n",
    "    if(null_values.sum()>0):\n",
    "        print(f'Null values: \\n{null_values[null_values>0]}')\n",
    "    if(isgis):\n",
    "        return df.explore()"
   ]
  },
  {
   "cell_type": "code",
   "execution_count": null,
   "metadata": {},
   "outputs": [],
   "source": [
    "import unidecode\n",
    "def LocationTransformation(column):\n",
    "\treturn column.apply(lambda x: unidecode.unidecode(str(x).lower()))"
   ]
  },
  {
   "cell_type": "code",
   "execution_count": null,
   "metadata": {},
   "outputs": [],
   "source": [
    "print(gis_ean_coor.head(3))\n",
    "\n",
    "#Check for null values\n",
    "print(gis_ean_coor.shape)\n",
    "print(gis_ean_coor.isnull().sum())\n",
    "print()\n",
    "\n",
    "gis_ean_coor.localiteOr = LocationTransformation(gis_ean_coor.localiteOr)\n",
    "cities = set(gis_ean_coor.localiteOr)\n",
    "print([i for i in cities if i.startswith(city_of_interest[:4])])\n",
    "print()\n",
    "\n",
    "#Check for null values for the city of interest\n",
    "ver = gis_ean_coor[gis_ean_coor.localiteOr==city_of_interest]\n",
    "print(ver.shape)\n",
    "print(ver.isnull().sum().sum())"
   ]
  },
  {
   "cell_type": "code",
   "execution_count": null,
   "metadata": {},
   "outputs": [],
   "source": [
    "#Simple plot \n",
    "ax = gis_under_points.plot()\n",
    "ax = gis_under_lines.plot('length', ax=ax, legend=True)\n",
    "gis_under_polys.plot('area', ax=ax, legend=True)"
   ]
  },
  {
   "cell_type": "code",
   "execution_count": null,
   "metadata": {},
   "outputs": [],
   "source": [
    "ele = 7\n",
    "if(ele==0):\n",
    "    ax = ExploreDF(gis_over_armoire_points, True)\n",
    "elif(ele==1):\n",
    "    ax = ExploreDF(gis_over_coupe_liste_points, True)\n",
    "elif(ele==2):\n",
    "    ax = ExploreDF(gis_over_lg_rappel_lines, True)\n",
    "elif(ele==3):\n",
    "    ax = ExploreDF(gis_over_noms_voiries_lines, True)\n",
    "elif(ele==4):\n",
    "    ax = ExploreDF(gis_over_postes_points, True)\n",
    "elif(ele==5):\n",
    "    ax = ExploreDF(gis_over_supports_points, True)\n",
    "elif(ele==6):\n",
    "    ax = ExploreDF(gis_over_troncon_lines, True)\n",
    "elif(ele==7):\n",
    "    ax = ExploreDF(gis_over_voirie_bord_lines, True)\n",
    "ax\n"
   ]
  },
  {
   "cell_type": "code",
   "execution_count": null,
   "metadata": {},
   "outputs": [],
   "source": [
    "#Detailed plot (Belgium map)\n",
    "\n",
    "#Overhead cables\n",
    "legend = False\n",
    "color = 'orangered'\n",
    "ax = gis_over_armoire_points.explore(color='blue', legend=legend)\n",
    "ax = gis_over_coupe_liste_points.explore(color='blue',m=ax, legend=legend)\n",
    "ax = gis_over_lg_rappel_lines.explore(color=color, m=ax, legend=legend)\n",
    "ax = gis_over_noms_voiries_lines.explore(color=color, m=ax, legend=legend)\n",
    "ax = gis_over_postes_points.explore(color='green', m=ax, legend=legend)\n",
    "ax = gis_over_supports_points.explore(color='blue', m=ax, legend=legend)\n",
    "ax = gis_over_troncon_lines.explore(color=color, m=ax, legend=legend)\n",
    "ax = gis_over_voirie_bord_lines.explore(color=color, m=ax, legend=not legend)"
   ]
  },
  {
   "cell_type": "code",
   "execution_count": null,
   "metadata": {},
   "outputs": [],
   "source": [
    "#Points\n",
    "ax1 = gis_over_coupe_liste_points.explore()\n",
    "gis_over_armoire_points.explore(m=ax1, color='red')\n",
    "gis_over_supports_points.explore(m=ax1, color='green')\n",
    "gis_over_postes_points.explore(m=ax1, color='purple')"
   ]
  },
  {
   "cell_type": "code",
   "execution_count": null,
   "metadata": {},
   "outputs": [],
   "source": [
    "# ax2 = gis_over_lg_rappel_lines.explore()\n",
    "# gis_over_noms_voiries_lines.explore(m=ax2, color='red')\n",
    "a = gis_over_troncon_lines.explore( color='green')\n",
    "gis_over_voirie_bord_lines.explore(m=a, color='purple')\n",
    "# ax2"
   ]
  },
  {
   "cell_type": "code",
   "execution_count": null,
   "metadata": {},
   "outputs": [],
   "source": [
    "#Road Line + poles\n",
    "ax = gis_over_supports_points.explore(color='purple')\n",
    "gis_over_troncon_lines.explore(m=ax, color='green')"
   ]
  },
  {
   "cell_type": "code",
   "execution_count": null,
   "metadata": {},
   "outputs": [],
   "source": [
    "#Detailed plot (Belgium map)\n",
    "gis_under_lines['length'] = gis_under_lines.length\n",
    "gis_under_polys['centroids'] = gis_under_polys.centroid\n",
    "gis_under_polys['area'] = gis_under_polys.area\n",
    "\n",
    "#Underground cables\n",
    "color1 = 'purple'\n",
    "ax = gis_under_points.explore(color=color1)\n",
    "ax = gis_under_lines.explore(color='green', legend=True,m=ax)\n",
    "gis_under_polys.explore(color='red', legend=True, m=ax)"
   ]
  },
  {
   "cell_type": "markdown",
   "metadata": {},
   "source": [
    "Exploration xlsx files"
   ]
  },
  {
   "cell_type": "code",
   "execution_count": null,
   "metadata": {},
   "outputs": [],
   "source": [
    "ExploreDF(df_sub_tfo, False)"
   ]
  },
  {
   "cell_type": "code",
   "execution_count": null,
   "metadata": {},
   "outputs": [],
   "source": [
    "ExploreDF(df_consumption, False)"
   ]
  },
  {
   "cell_type": "code",
   "execution_count": null,
   "metadata": {},
   "outputs": [],
   "source": [
    "ExploreDF(df_bi_assets, False)"
   ]
  },
  {
   "cell_type": "code",
   "execution_count": null,
   "metadata": {},
   "outputs": [],
   "source": [
    "def CheckForCoI(df, col):\n",
    "    df[col] = LocationTransformation(df[col])\n",
    "    cities = set(df[col])\n",
    "    print(sorted(cities))\n",
    "    print(len(df[df[col] == city_of_interest]))\n",
    "    print([i for i in cities if i.startswith(city_of_interest[:4])])"
   ]
  },
  {
   "cell_type": "code",
   "execution_count": null,
   "metadata": {},
   "outputs": [],
   "source": [
    "print(df_sub_tfo.shape)\n",
    "df_sub_tfo.head(3)"
   ]
  },
  {
   "cell_type": "code",
   "execution_count": null,
   "metadata": {},
   "outputs": [],
   "source": [
    "col_ean = 'localiteOr'\n",
    "CheckForCoI(gis_ean_coor, col_ean)"
   ]
  },
  {
   "cell_type": "code",
   "execution_count": null,
   "metadata": {},
   "outputs": [],
   "source": [
    "col_com = 'Localité OR'\n",
    "CheckForCoI(df_consumption, col_com)"
   ]
  },
  {
   "cell_type": "code",
   "execution_count": null,
   "metadata": {},
   "outputs": [],
   "source": [
    "col_bi = 'LOCALITE_OR'\n",
    "CheckForCoI(df_bi_assets, col_bi)"
   ]
  },
  {
   "cell_type": "code",
   "execution_count": null,
   "metadata": {},
   "outputs": [],
   "source": [
    "#Filter for CoI\n",
    "print(f'Before filtering: {gis_ean_coor.shape}')\n",
    "gis_ean_coor_filtered = gis_ean_coor[gis_ean_coor[col_ean] == city_of_interest]\n",
    "print(f'After filtering: {gis_ean_coor_filtered.shape}')\n",
    "col_join = 'EAN'\n",
    "gis_ean_coor_filtered.columns = [col_join, *list(gis_ean_coor_filtered.columns)[1:]]\n",
    "\n",
    "from shapely.geometry import Point\n",
    "gis_ean_coor_filtered['geometry'] = gis_ean_coor_filtered.apply(lambda x: Point(x.latWgs84, x.longWgs84), axis=1)\n",
    "\n",
    "df_consumption_filtered = df_consumption[df_consumption[col_com] == city_of_interest]\n",
    "df_bi_assets_filtered = df_bi_assets[df_bi_assets[col_bi] == city_of_interest]"
   ]
  },
  {
   "cell_type": "code",
   "execution_count": null,
   "metadata": {},
   "outputs": [],
   "source": [
    "print(gis_ean_coor_filtered.shape)\n",
    "print(df_consumption_filtered.shape)\n",
    "print(df_bi_assets_filtered.shape)"
   ]
  },
  {
   "cell_type": "code",
   "execution_count": null,
   "metadata": {},
   "outputs": [],
   "source": [
    "#Duplicate EAN\n",
    "print(gis_ean_coor_filtered.EAN.shape)\n",
    "print(len(set(gis_ean_coor_filtered.EAN)))"
   ]
  },
  {
   "cell_type": "code",
   "execution_count": null,
   "metadata": {},
   "outputs": [],
   "source": [
    "gis_ean_coor_filtered[gis_ean_coor_filtered.duplicated('EAN',False)==True].sort_values('EAN')"
   ]
  },
  {
   "cell_type": "code",
   "execution_count": null,
   "metadata": {},
   "outputs": [],
   "source": [
    "print(gis_ean_coor_filtered.loc[576464])\n",
    "print(gis_ean_coor_filtered.loc[144086])"
   ]
  },
  {
   "cell_type": "markdown",
   "metadata": {},
   "source": [
    "Joins"
   ]
  },
  {
   "cell_type": "code",
   "execution_count": null,
   "metadata": {},
   "outputs": [],
   "source": [
    "#ASSUMPTION: the duplicated EAN are just dropped\n",
    "gis_ean_coor_filtered = gis_ean_coor_filtered[gis_ean_coor_filtered.duplicated('EAN')==False]\n",
    "\n",
    "gis_ean_coor_filtered = gis_ean_coor_filtered.loc[:,['EAN', 'latWgs84', 'longWgs84', 'geometry']]\n",
    "print(gis_ean_coor_filtered.EAN.iloc[0], type(gis_ean_coor_filtered.EAN.iloc[0]))\n",
    "gis_ean_coor_filtered['EAN'] = gis_ean_coor_filtered['EAN'].astype(float)\n",
    "print(gis_ean_coor_filtered.EAN.iloc[0], type(gis_ean_coor_filtered.EAN.iloc[0]))\n",
    "print(gis_ean_coor_filtered.shape)"
   ]
  },
  {
   "cell_type": "code",
   "execution_count": null,
   "metadata": {},
   "outputs": [],
   "source": [
    "#https://epsg.io/transform\n",
    "#https://pygis.io/docs/d_understand_crs_codes.html\n",
    "# print(gis_over_armoire_points['geometry'].crs)\n",
    "gis_over_armoire_points['geometry'].crs"
   ]
  },
  {
   "cell_type": "code",
   "execution_count": null,
   "metadata": {},
   "outputs": [],
   "source": [
    "gis_ean_coor_filtered = gpd.GeoDataFrame(gis_ean_coor_filtered)\n",
    "# gis_ean_coor_filtered = gis_ean_coor_filtered.set_crs(4326)\n",
    "# gis_ean_coor_filtered['geometry'] = gis_ean_coor_filtered['geometry'].to_crs(31370)"
   ]
  },
  {
   "cell_type": "code",
   "execution_count": null,
   "metadata": {},
   "outputs": [],
   "source": [
    "print(df_consumption_filtered.EAN.iloc[0], type(df_consumption_filtered.EAN.iloc[0]))\n",
    "df_consumption_filtered = df_consumption_filtered.loc[:,['EAN', 'P Contractuelle Prél. (kVA)', 'P Production (kVA)']]\n",
    "df_consumption_filtered['EAN'] = df_consumption_filtered['EAN'].astype(float)\n",
    "print(df_consumption_filtered.EAN.iloc[0], type(df_consumption_filtered.EAN.iloc[0]))"
   ]
  },
  {
   "cell_type": "code",
   "execution_count": null,
   "metadata": {},
   "outputs": [],
   "source": [
    "print(df_bi_assets_filtered.EAN.iloc[0], type(df_bi_assets_filtered.EAN.iloc[0]))\n",
    "df_bi_assets_filtered = df_bi_assets_filtered.loc[:,['EAN', 'P_CONTRACTUELLE (kVA)', 'Numéro cabine']]\n",
    "df_bi_assets_filtered['EAN'] = df_bi_assets_filtered['EAN'].astype(float)\n",
    "print(df_bi_assets_filtered.EAN.iloc[0], type(df_bi_assets_filtered.EAN.iloc[0]))"
   ]
  },
  {
   "cell_type": "code",
   "execution_count": null,
   "metadata": {},
   "outputs": [],
   "source": [
    "# GIS EAN with consumptions\n",
    "df_cust_con = gis_ean_coor_filtered.merge(df_consumption_filtered, on='EAN', how='inner')\n",
    "# gis_ean_coor_filtered['EAN'] = gis_ean_coor_filtered['ean'].astype(float)\n",
    "# df_cust_con = df_consumption_filtered.merge( gis_ean_coor_filtered, on='EAN', how='inner')\n",
    "print(gis_ean_coor_filtered[gis_ean_coor_filtered.EAN == 541456700000166555])\n",
    "print(df_consumption_filtered[df_consumption_filtered.EAN == 541456700000166555])\n",
    "print(df_cust_con.shape)"
   ]
  },
  {
   "cell_type": "code",
   "execution_count": null,
   "metadata": {},
   "outputs": [],
   "source": [
    "# GIS EAN with bi_assets\n",
    "df_cust_bi = gis_ean_coor_filtered.merge(df_bi_assets_filtered, on='EAN', how='inner')\n",
    "print(gis_ean_coor_filtered[gis_ean_coor_filtered.EAN == 541456700000166555])\n",
    "print(df_bi_assets_filtered[df_bi_assets_filtered.EAN == 541456700000166555])\n",
    "print(df_cust_bi.shape)"
   ]
  },
  {
   "cell_type": "markdown",
   "metadata": {},
   "source": [
    "Build Network"
   ]
  },
  {
   "cell_type": "code",
   "execution_count": null,
   "metadata": {},
   "outputs": [],
   "source": [
    "gis_over_lg_rappel_lines.explore()"
   ]
  },
  {
   "cell_type": "code",
   "execution_count": null,
   "metadata": {},
   "outputs": [],
   "source": [
    "import pandapower as pp\n",
    "\n",
    "def GenerateBuses(net, df, s, color, name, old_buses):\n",
    "\tnew_buses = old_buses\n",
    "\tvn_kv = 120\n",
    "\tcolors = [] if 'color' not in net.bus.columns else list(net.bus['color'])\n",
    "\tsizes = [] if 'marker_size' not in net.bus.columns else list(net.bus['marker_size'])\n",
    "\tnames = [] if 'name' not in net.bus.columns else list(net.bus['name'])\n",
    "\tcounter = len(net.bus)\n",
    "\tfor index, row in df.iterrows():\n",
    "\t\tgeodata = list(row.geometry.coords)[0]\n",
    "\t\tif(geodata in new_buses.keys()):\n",
    "\t\t\tid = new_buses[geodata]\n",
    "\t\t\tprint(f'There is a bus used more than once: GPS: {geodata}. Bus ID: {id}')\n",
    "\t\t\t# net.bus.loc[id,'color'] = 'black'\n",
    "\t\t\t# net.bus.loc[id,'size'] = s*2\n",
    "\t\t\tcolors[id] = 'black'\n",
    "\t\t\tsizes[id] = s*2\n",
    "\t\telse:\n",
    "\t\t\tbus = pp.create_bus(net, name=f'Bus {counter+index}', vn_kv=vn_kv, geodata=geodata, type='b')\n",
    "\t\t\tcolors.append(color)\n",
    "\t\t\tsizes.append(s)\n",
    "\t\t\tnames.append(name)\n",
    "\t\t\tnew_buses[geodata] = bus\n",
    "\tnet.bus['color'] = colors\n",
    "\tnet.bus['marker_size'] = sizes\n",
    "\tnet.bus['name'] = names\n",
    "\treturn new_buses\n",
    "\n",
    "def GenerateLines(net, df, s, color, name, old_buses):\n",
    "\ttype_bus = 'n'\n",
    "\tvn_kv = 120\n",
    "\tcolor_buses = [] if 'color' not in net.bus.columns else list(net.bus['color'])\n",
    "\tsizes = [] if 'marker_size' not in net.bus.columns else list(net.bus['marker_size'])\n",
    "\tnames = [] if 'name' not in net.bus.columns else list(net.bus['name'])\n",
    "\tcolor_lines = [] if 'color' not in net.line.columns else list(net.line['color'])\n",
    "\tcoor_lines = [] if 'coor' not in net.line.columns else list(net.line['coor'])\n",
    "\ttype_lines = [] if 'type' not in net.line.columns else list(net.line['type'])\n",
    "\tnew_buses = {} if old_buses is None else old_buses\n",
    "\tm = []\n",
    "\tcounter_buses = len(net.bus)\n",
    "\tcounter_lines = len(net.line)\n",
    "\tfor index, row in df.iterrows():\n",
    "\t\tgeodata = list(row.geometry.coords)\n",
    "\n",
    "\t\tfrom_gps = geodata[0]\n",
    "\t\tif(from_gps in new_buses.keys()):\n",
    "\t\t\tid = new_buses[from_gps]\n",
    "\t\t\tprint(f'There is a (from) bus used more than once: GPS: {from_gps}. Bus ID: {id}')\n",
    "\t\t\tfrom_bus = id\n",
    "\t\t\t# colors.append(colors[id])\n",
    "\t\t\t# sizes.append(sizes[id])\n",
    "\t\t\t# m.append(from_bus)\n",
    "\t\telse:\t\n",
    "\t\t\tfrom_bus = pp.create_bus(net, name=f'Bus (from) line {counter_buses + index}', type=type_bus, vn_kv=vn_kv, geodata=from_gps)\n",
    "\t\t\t# counter_buses+=1\n",
    "\t\t\tnew_buses[from_gps] = from_bus\n",
    "\t\t\tcolor_buses.append(color)\n",
    "\t\t\tsizes.append(s)\n",
    "\t\t\tnames.append(name)\n",
    "\t\t\n",
    "\t\tto_gps = geodata[-1]\n",
    "\t\tif(to_gps in new_buses.keys()):\n",
    "\t\t\tid = new_buses[to_gps]\n",
    "\t\t\tprint(f'There is a (to) bus used more than once: GPS: {to_gps}. Bus ID: {id}')\n",
    "\t\t\tto_bus = id\n",
    "\t\t\t# to_bus = buses[to_gps]\n",
    "\t\t\t# colors.append('green')\n",
    "\t\t\t# sizes.append(10)\n",
    "\t\telse:\t\n",
    "\t\t\tto_bus = pp.create_bus(net, name=f'Bus (to) line {counter_buses + index}', vn_kv=vn_kv, geodata=to_gps)\n",
    "\t\t\t# counter_buses+=1\n",
    "\t\t\tnew_buses[to_gps] = to_bus\n",
    "\t\t\tcolor_buses.append(color)\n",
    "\t\t\tsizes.append(s)\n",
    "\t\t\tnames.append(name)\n",
    "\n",
    "\t\tlength = row.length\n",
    "\t\tline = pp.create_line(net, from_bus=from_bus, to_bus=to_bus, std_type='NAYY 4x50 SE', length_km=length/1000.0, name=f'{name} {counter_lines + index}', geodata=geodata)\n",
    "\t\tcolor_lines.append(color)\n",
    "\t\tcoor_lines.append(geodata)\n",
    "\t\ttype_lines.append(name)\n",
    "\tnet.bus['color'] = color_buses\n",
    "\tnet.bus['marker_size'] = sizes\n",
    "\tnet.bus['name'] = names\n",
    "\tnet.line['color'] = color_lines\n",
    "\tnet.line['coor'] = coor_lines\n",
    "\tnet.line['type'] = type_lines\n",
    "\treturn new_buses, m\n"
   ]
  },
  {
   "cell_type": "code",
   "execution_count": null,
   "metadata": {},
   "outputs": [],
   "source": [
    "#CLEANING\n",
    "#Duplicated GPS location in gis_over_coupe_liste_points\n",
    "#ASSUMPTION: The duplicated are simply dropped \n",
    "duplicated = gis_over_coupe_liste_points[gis_over_coupe_liste_points.duplicated('geometry',False)==True]\n",
    "\n",
    "# print(duplicated)\n",
    "print(len(duplicated)/2)\n",
    "\n",
    "#Remove duplicated\n",
    "print(gis_over_coupe_liste_points.shape)\n",
    "gis_over_coupe_liste_points = gis_over_coupe_liste_points[gis_over_coupe_liste_points.duplicated('geometry')==False]\n",
    "print(gis_over_coupe_liste_points.shape)"
   ]
  },
  {
   "cell_type": "code",
   "execution_count": null,
   "metadata": {},
   "outputs": [],
   "source": [
    "gis_over_coupe_liste_points[gis_over_coupe_liste_points.duplicated('geometry',False)==True]"
   ]
  },
  {
   "cell_type": "code",
   "execution_count": null,
   "metadata": {},
   "outputs": [],
   "source": [
    "# gis_ean_coor['geometry'] = gis_ean_coor.apply(lambda x: np.array(x.latWgs84, x.longWgs84), axis=1)\n",
    "# gis_ean_coor[gis_ean_coor.duplicated('geometry',False)==True]\n",
    "gis_ean_coor_filtered[gis_ean_coor_filtered.duplicated('geometry',False)==True]"
   ]
  },
  {
   "cell_type": "code",
   "execution_count": null,
   "metadata": {},
   "outputs": [],
   "source": [
    "gis_ean_coor_filtered[gis_ean_coor_filtered.geometry == a]"
   ]
  },
  {
   "cell_type": "code",
   "execution_count": null,
   "metadata": {},
   "outputs": [],
   "source": [
    "import plotly.graph_objects as go\n",
    "    # gis_over_armoire_points\n",
    "    # gis_over_coupe_liste_points\n",
    "# gis_over_lg_rappel_lines\n",
    "# gis_over_noms_voiries_lines\n",
    "    # gis_over_postes_points\n",
    "    # gis_over_supports_points\n",
    "# gis_over_troncon_lines\n",
    "# gis_over_voirie_bord_lines\n",
    "\n",
    "net = pp.create_empty_network()\n",
    "\n",
    "s = 6\n",
    "buses = {}\n",
    "# types = ['armoire', 'coupe', 'postes (poles)', 'supports', 'underground', 'customers']\n",
    "points_types = ['armoire', 'support (poles)', 'coupe', 'postes', 'underground']\n",
    "\n",
    "# Overhead\n",
    "buses = GenerateBuses(net, gis_over_armoire_points, s, 'red', points_types[0], buses)\n",
    "\n",
    "buses = GenerateBuses(net, gis_over_supports_points, s, 'green', points_types[1], buses)\n",
    "\n",
    "buses = GenerateBuses(net, gis_over_coupe_liste_points, s, 'blue', points_types[2], buses)\n",
    "\n",
    "buses = GenerateBuses(net, gis_over_postes_points, s, 'purple', points_types[3], buses)\n",
    "\n",
    "\n",
    "# Undedrground\n",
    "buses = GenerateBuses(net, gis_under_points, s, 'black', points_types[4], buses)\n",
    "\n",
    "# Customers\n",
    "# buses = GenerateBuses(net, df_cust_bi, s, 'lime', 'customers', buses)"
   ]
  },
  {
   "cell_type": "code",
   "execution_count": null,
   "metadata": {},
   "outputs": [],
   "source": [
    "fig = go.Figure()\n",
    "for t in points_types:\n",
    "    fig.add_trace(go.Scatter(x=net.bus_geodata[net.bus.name==t]['x'],\n",
    "                            y=net.bus_geodata[net.bus.name==t]['y'],\n",
    "                            mode='markers', marker=dict(size=net.bus.marker_size), name=t, showlegend=True))\n",
    "fig.update_layout(\n",
    "        autosize=False,\n",
    "        width=1000,\n",
    "        height=600, \n",
    "        margin=dict(\n",
    "            l=50,\n",
    "            r=50,\n",
    "            b=50,\n",
    "            t=50,\n",
    "            pad=4)\n",
    "        )\n",
    "# fig.update_yaxes(automargin=True)\n",
    "fig.show()"
   ]
  },
  {
   "cell_type": "code",
   "execution_count": null,
   "metadata": {},
   "outputs": [],
   "source": [
    "# import time\n",
    "\n",
    "# gis_over_armoire_points\n",
    "# gis_over_coupe_liste_points\n",
    "    # gis_over_lg_rappel_lines\n",
    "    # gis_over_noms_voiries_lines\n",
    "# gis_over_postes_points\n",
    "# gis_over_supports_points\n",
    "    # gis_over_troncon_lines\n",
    "    # gis_over_voirie_bord_lines\n",
    "\n",
    "# net = pp.create_empty_network()\n",
    "\n",
    "# t1 = time.time()\n",
    "s = 6\n",
    "# buses = None\n",
    "#Overhead\n",
    "buses, m = GenerateLines(net, gis_over_lg_rappel_lines, s, 'lime', 'lg_rappel_line', buses)\n",
    "print()\n",
    "# buses, m = GenerateLines(gis_over_noms_voiries_lines, s, 'lime', buses) #There are multi-line objects here\n",
    "print()\n",
    "# buses, m = GenerateLines(gis_over_troncon_lines, s, 'lime', buses) #There are multi-line objects here\n",
    "print()\n",
    "# buses, m = GenerateLines(gis_over_voirie_bord_lines, s, 'green', buses) #There are multi-line objects here\n",
    "print()\n",
    "\n",
    "#Underground\n",
    "# buses, m = GenerateLines(gis_under_lines, buses)\n",
    "# t2 = time.time()\n",
    "# print(f'Execution time: {(t2-t1):.3f}s')"
   ]
  },
  {
   "cell_type": "code",
   "execution_count": null,
   "metadata": {},
   "outputs": [],
   "source": [
    "fig = go.Figure()\n",
    "for t in points_types:\n",
    "    fig.add_trace(go.Scatter(x=net.bus_geodata[net.bus.name==t]['x'],\n",
    "                            y=net.bus_geodata[net.bus.name==t]['y'],\n",
    "                            mode='markers', marker=dict(size=net.bus.marker_size), name=t, showlegend=True))\n",
    "\n",
    "for l in net.line.iterrows():\n",
    "    l = l[1]\n",
    "    xs = [i[0] for i in l.coor]\n",
    "    ys = [i[1] for i in l.coor]\n",
    "    fig.add_trace(go.Scatter(x=xs,\n",
    "                            y=ys,\n",
    "                            mode='lines', line=dict(color=l.color), name=l.name, showlegend=False))\n",
    "# fig.add_trace(go.Scatter(x=[ net.bus_geodata.iloc[l.from_bus]['x'], net.bus_geodata.iloc[l.to_bus]['x'] ] ,\n",
    "#                         y=[ net.bus_geodata.iloc[l.from_bus]['y'], net.bus_geodata.iloc[l.to_bus]['y'] ],\n",
    "#                         mode='lines+markers', line=dict(color=l.color), name=l['name'].split(' ')[:-1], showlegend=True))\n",
    "\n",
    "fig.update_layout(\n",
    "        autosize=False,\n",
    "        width=1000,\n",
    "        height=600, \n",
    "        margin=dict(\n",
    "            l=50,\n",
    "            r=50,\n",
    "            b=50,\n",
    "            t=50,\n",
    "            pad=4)\n",
    "        )\n",
    "\n",
    "# fig.update_yaxes(automargin=True)\n",
    "fig.show()"
   ]
  },
  {
   "cell_type": "code",
   "execution_count": null,
   "metadata": {},
   "outputs": [],
   "source": [
    "import pandapower.plotting as plot\n",
    "traces = []\n",
    "for t in points_types:\n",
    "    print(t)\n",
    "    buses = net.bus[net.bus.name==t]\n",
    "    trace_name = buses.name.head(1).to_list()[0]\n",
    "    trace = pp.plotting.plotly.create_bus_trace(net, buses=buses.index, size=buses.marker_size, color=buses.color, trace_name=trace_name)\n",
    "    traces.append(trace[0])\n",
    "\n",
    "lines = net.line[net.line.type=='lg_rappel_line']\n",
    "trace_name = lines.type.head(1).to_list()[0]\n",
    "trace_color = lines.color.head(1).to_list()[0]\n",
    "info = lines.name\n",
    "trace = pp.plotting.plotly.create_line_trace(net, lines=lines.index, width=3, color=trace_color, trace_name=trace_name, infofunc=info)\n",
    "[traces.append(t) for t in trace]\n",
    "\n",
    "\n",
    "plot.draw_traces(traces)\n",
    "plt.show()"
   ]
  },
  {
   "cell_type": "code",
   "execution_count": null,
   "metadata": {},
   "outputs": [],
   "source": [
    "for i,j in gis_over_noms_voiries_lines.iterrows():\n",
    "    print(i,j)\n",
    "    jj = list(j.geometry.coords)\n",
    "    print(jj)\n",
    "    # break"
   ]
  },
  {
   "cell_type": "code",
   "execution_count": null,
   "metadata": {},
   "outputs": [],
   "source": [
    "plot = simple_plotly(net, bus_size=net.bus['size'], bus_color=net.bus['color'])"
   ]
  },
  {
   "cell_type": "code",
   "execution_count": null,
   "metadata": {},
   "outputs": [],
   "source": [
    "#It is okay. That's how life is! D:\n",
    "# gis_over_noms_voiries_lines, gis_over_troncon_lines, gis_over_voirie_bord_lines\n",
    "df = gis_over_voirie_bord_lines\n",
    "ind = []\n",
    "jj = set()\n",
    "for i in df.iterrows():\n",
    "    jj.add(type(i[1].geometry))\n",
    "    if(str(type(i[1].geometry))==\"<class 'shapely.geometry.multilinestring.MultiLineString'>\"):\n",
    "        print(str(type(i[1].geometry)))\n",
    "        ind.append(i[1].name)\n",
    "    # break"
   ]
  },
  {
   "cell_type": "code",
   "execution_count": null,
   "metadata": {},
   "outputs": [],
   "source": [
    "jj"
   ]
  },
  {
   "cell_type": "code",
   "execution_count": null,
   "metadata": {},
   "outputs": [],
   "source": [
    "ind[:10]"
   ]
  },
  {
   "cell_type": "code",
   "execution_count": null,
   "metadata": {},
   "outputs": [],
   "source": [
    "df.loc[ind].explore()"
   ]
  },
  {
   "cell_type": "code",
   "execution_count": null,
   "metadata": {},
   "outputs": [],
   "source": [
    "i = ind[-10]\n",
    "print(len(df.loc[i].geometry))\n",
    "df.loc[i].geometry"
   ]
  },
  {
   "cell_type": "code",
   "execution_count": null,
   "metadata": {},
   "outputs": [],
   "source": [
    "list(df.iloc[ind[0]].geometry.geoms)"
   ]
  },
  {
   "cell_type": "code",
   "execution_count": null,
   "metadata": {},
   "outputs": [],
   "source": []
  }
 ],
 "metadata": {
  "kernelspec": {
   "display_name": "Python 3.9.13 ('resa')",
   "language": "python",
   "name": "python3"
  },
  "language_info": {
   "codemirror_mode": {
    "name": "ipython",
    "version": 3
   },
   "file_extension": ".py",
   "mimetype": "text/x-python",
   "name": "python",
   "nbconvert_exporter": "python",
   "pygments_lexer": "ipython3",
   "version": "3.9.13"
  },
  "orig_nbformat": 4,
  "vscode": {
   "interpreter": {
    "hash": "46862f9f3a326249a2312acd78ffe7f45a22ca887e28840d3614e5a972824dd4"
   }
  }
 },
 "nbformat": 4,
 "nbformat_minor": 2
}
