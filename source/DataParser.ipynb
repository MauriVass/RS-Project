{
 "cells": [
  {
   "cell_type": "markdown",
   "metadata": {},
   "source": [
    "Keywords:\n",
    "- TODO: things missing or to be checked\n",
    "- ASSUMPTIONS: any assumptions taken on the implementation"
   ]
  },
  {
   "cell_type": "code",
   "execution_count": null,
   "metadata": {},
   "outputs": [],
   "source": [
    "import pandas as pd\n",
    "import geopandas as gpd\n",
    "# import matplotlib.pyplot as plt"
   ]
  },
  {
   "cell_type": "code",
   "execution_count": null,
   "metadata": {},
   "outputs": [],
   "source": [
    "import donotcommit\n",
    "ean_coor, \\\n",
    "    armoire_resa, coupe_liste_resa, lg_rappel, noms_voiries, postes_resa, supports_resa, troncon_resa, voirie_bord, \\\n",
    "    under_lines, under_points, under_polys, \\\n",
    "sub_tfo, \\\n",
    "    m105, \\\n",
    "    bi_assets = donotcommit.ImportPaths()\n",
    "\n",
    "gis_ean_coor = pd.read_csv(ean_coor)\n",
    "\n",
    "gis_over_armoire_points = gpd.read_file(armoire_resa)\n",
    "gis_over_coupe_liste_points = gpd.read_file(coupe_liste_resa)\n",
    "gis_over_lg_rappel_lines = gpd.read_file(lg_rappel)\n",
    "gis_over_noms_voiries_lines = gpd.read_file(noms_voiries)\n",
    "gis_over_postes_points = gpd.read_file(postes_resa)\n",
    "gis_over_supports_points = gpd.read_file(supports_resa)\n",
    "gis_over_troncon_lines = gpd.read_file(troncon_resa)\n",
    "gis_over_voirie_bord_lines = gpd.read_file(voirie_bord)\n",
    "\n",
    "#Underground cables\n",
    "gis_under_lines = gpd.read_file(under_lines)\n",
    "gis_under_points = gpd.read_file(under_points)\n",
    "gis_under_polys = gpd.read_file(under_polys)\n",
    "\n",
    "df_sub_tfo = pd.read_excel(sub_tfo)\n",
    "df_consumption = pd.read_excel(m105)\n",
    "df_bi_assets = pd.read_excel(bi_assets)\n",
    "\n",
    "city_of_interest = donotcommit.CityofInterest()"
   ]
  },
  {
   "cell_type": "code",
   "execution_count": null,
   "metadata": {},
   "outputs": [],
   "source": [
    "def ExploreDF(df, isgis):\n",
    "    print('Sample DF:')\n",
    "    print(df.head(2), '\\n')\n",
    "    print('Columns: ', list(df.columns), '\\n')\n",
    "    print(df.shape, '\\n')\n",
    "    null_values = df.isnull().sum()\n",
    "    if(null_values.sum()>0):\n",
    "        print(f'Null values: \\n{null_values[null_values>0]}')\n",
    "    if(isgis):\n",
    "        return df.explore()"
   ]
  },
  {
   "cell_type": "code",
   "execution_count": null,
   "metadata": {},
   "outputs": [],
   "source": [
    "import unidecode\n",
    "def LocationTransformation(column):\n",
    "\treturn column.apply(lambda x: unidecode.unidecode(str(x).lower()))"
   ]
  },
  {
   "cell_type": "code",
   "execution_count": null,
   "metadata": {},
   "outputs": [],
   "source": [
    "print(gis_ean_coor.head(3))\n",
    "\n",
    "#Check for null values\n",
    "print(gis_ean_coor.shape)\n",
    "print(gis_ean_coor.isnull().sum())\n",
    "print()\n",
    "\n",
    "gis_ean_coor.localiteOr = LocationTransformation(gis_ean_coor.localiteOr)\n",
    "cities = set(gis_ean_coor.localiteOr)\n",
    "print([i for i in cities if i.startswith(city_of_interest[:4])])\n",
    "print()\n",
    "\n",
    "#Check for null values for the city of interest\n",
    "ver = gis_ean_coor[gis_ean_coor.localiteOr==city_of_interest]\n",
    "print(ver.shape)\n",
    "print(ver.isnull().sum().sum())"
   ]
  },
  {
   "cell_type": "code",
   "execution_count": null,
   "metadata": {},
   "outputs": [],
   "source": [
    "#Simple plot \n",
    "ax = gis_under_points.plot()\n",
    "ax = gis_under_lines.plot('length', ax=ax, legend=True)\n",
    "gis_under_polys.plot('area', ax=ax, legend=True)"
   ]
  },
  {
   "cell_type": "code",
   "execution_count": null,
   "metadata": {},
   "outputs": [],
   "source": [
    "ele = 6\n",
    "if(ele==0):\n",
    "    ax = ExploreDF(gis_over_armoire_points, True)\n",
    "elif(ele==1):\n",
    "    ax = ExploreDF(gis_over_coupe_liste_points, True)\n",
    "elif(ele==2):\n",
    "    ax = ExploreDF(gis_over_lg_rappel_lines, True)\n",
    "elif(ele==3):\n",
    "    ax = ExploreDF(gis_over_noms_voiries_lines, True)\n",
    "elif(ele==4):\n",
    "    ax = ExploreDF(gis_over_postes_points, True)\n",
    "elif(ele==5):\n",
    "    ax = ExploreDF(gis_over_supports_points, True)\n",
    "elif(ele==6):\n",
    "    ax = ExploreDF(gis_over_troncon_lines, True)\n",
    "elif(ele==7):\n",
    "    ax = ExploreDF(gis_over_voirie_bord_lines, True)\n",
    "ax\n"
   ]
  },
  {
   "cell_type": "code",
   "execution_count": null,
   "metadata": {},
   "outputs": [],
   "source": [
    "#Detailed plot (Belgium map)\n",
    "\n",
    "# gis_over_armoire_points['length'] = gis_over_armoire_points.length\n",
    "# gis_over_coupe_liste_points['length'] = gis_over_coupe_liste_points.length\n",
    "gis_over_lg_rappel_lines['length'] = gis_over_lg_rappel_lines.length\n",
    "gis_over_noms_voiries_lines['length'] = gis_over_noms_voiries_lines.length\n",
    "# gis_over_postes_points['length'] = gis_over_postes_points.length\n",
    "# gis_over_supports_points['length'] = gis_over_supports_points.length\n",
    "gis_over_troncon_lines['length'] = gis_over_troncon_lines.length\n",
    "gis_over_voirie_bord_lines['length'] = gis_over_voirie_bord_lines.length\n",
    "\n",
    "#Overhead cables\n",
    "legend = False\n",
    "color = 'orangered'\n",
    "ax = gis_over_armoire_points.explore(color=color, legend=legend)\n",
    "ax = gis_over_coupe_liste_points.explore(color=color, m=ax, legend=legend)\n",
    "ax = gis_over_lg_rappel_lines.explore(color=color, m=ax, legend=legend)\n",
    "ax = gis_over_noms_voiries_lines.explore(color=color, m=ax, legend=legend)\n",
    "ax = gis_over_postes_points.explore(color=color, m=ax, legend=legend)\n",
    "ax = gis_over_supports_points.explore(color=color, m=ax, legend=legend)\n",
    "ax = gis_over_troncon_lines.explore(color=color, m=ax, legend=legend)\n",
    "gis_over_voirie_bord_lines.explore(color=color, m=ax, legend=not legend)"
   ]
  },
  {
   "cell_type": "code",
   "execution_count": null,
   "metadata": {},
   "outputs": [],
   "source": [
    "#Detailed plot (Belgium map)\n",
    "gis_under_lines['length'] = gis_under_lines.length\n",
    "gis_under_polys['centroids'] = gis_under_polys.centroid\n",
    "gis_under_polys['area'] = gis_under_polys.area\n",
    "\n",
    "#Underground cables\n",
    "color1 = 'blue'\n",
    "ax = gis_under_points.explore(color=color1, m=ax)\n",
    "ax = gis_under_lines.explore(color=color1, legend=True,m=ax)\n",
    "gis_under_polys.explore(color=color1, legend=True, m=ax)"
   ]
  },
  {
   "cell_type": "code",
   "execution_count": null,
   "metadata": {},
   "outputs": [],
   "source": [
    "ExploreDF(df_sub_tfo, False)"
   ]
  },
  {
   "cell_type": "code",
   "execution_count": null,
   "metadata": {},
   "outputs": [],
   "source": [
    "ExploreDF(df_consumption, False)"
   ]
  },
  {
   "cell_type": "code",
   "execution_count": null,
   "metadata": {},
   "outputs": [],
   "source": [
    "ExploreDF(df_bi_assets, False)"
   ]
  },
  {
   "cell_type": "code",
   "execution_count": null,
   "metadata": {},
   "outputs": [],
   "source": [
    "def CheckForCoI(df, col):\n",
    "    df[col] = LocationTransformation(df[col])\n",
    "    cities = set(df[col])\n",
    "    print(sorted(cities))\n",
    "    print(len(df[df[col] == city_of_interest]))\n",
    "    print([i for i in cities if i.startswith(city_of_interest[:4])])"
   ]
  },
  {
   "cell_type": "code",
   "execution_count": null,
   "metadata": {},
   "outputs": [],
   "source": [
    "print(df_sub_tfo.shape)\n",
    "df_sub_tfo.head(3)"
   ]
  },
  {
   "cell_type": "code",
   "execution_count": null,
   "metadata": {},
   "outputs": [],
   "source": [
    "col_ean = 'localiteOr'\n",
    "CheckForCoI(gis_ean_coor, col_ean)"
   ]
  },
  {
   "cell_type": "code",
   "execution_count": null,
   "metadata": {},
   "outputs": [],
   "source": [
    "col_com = 'Localité OR'\n",
    "CheckForCoI(df_consumption, col_com)"
   ]
  },
  {
   "cell_type": "code",
   "execution_count": null,
   "metadata": {},
   "outputs": [],
   "source": [
    "col_bi = 'LOCALITE_OR'\n",
    "CheckForCoI(df_bi_assets, col_bi)"
   ]
  },
  {
   "cell_type": "code",
   "execution_count": null,
   "metadata": {},
   "outputs": [],
   "source": [
    "#Filter for CoI\n",
    "gis_ean_coor_filtered = gis_ean_coor[gis_ean_coor[col_ean] == city_of_interest]\n",
    "col_join = 'EAN'\n",
    "gis_ean_coor_filtered.columns = [col_join, *list(gis_ean_coor_filtered.columns)[1:]]\n",
    "\n",
    "df_consumption_filtered = df_consumption[df_consumption[col_com] == city_of_interest]\n",
    "df_bi_assets_filtered = df_bi_assets[df_bi_assets[col_bi] == city_of_interest]"
   ]
  },
  {
   "cell_type": "code",
   "execution_count": null,
   "metadata": {},
   "outputs": [],
   "source": [
    "print(df_consumption_filtered.shape)\n",
    "print(df_bi_assets_filtered.shape)"
   ]
  },
  {
   "cell_type": "code",
   "execution_count": null,
   "metadata": {},
   "outputs": [],
   "source": [
    "gis_ean_coor_filtered[col_join] = gis_ean_coor_filtered[col_join].astype(float)\n",
    "df_consumption_filtered[col_join] = df_consumption_filtered[col_join].astype(float)\n",
    "df_bi_assets_filtered[col_join] = df_bi_assets_filtered[col_join].astype(float)\n",
    "\n",
    "# df_join = df_bi_assets_filtered.join(df_consumption_filtered, on=col_join, rsuffix='r')"
   ]
  },
  {
   "cell_type": "code",
   "execution_count": null,
   "metadata": {},
   "outputs": [],
   "source": [
    "df_join.shape"
   ]
  },
  {
   "cell_type": "code",
   "execution_count": null,
   "metadata": {},
   "outputs": [],
   "source": [
    "df_join = gis_ean_coor_filtered.join(df_join, on=col_join, rsuffix='r')"
   ]
  },
  {
   "cell_type": "code",
   "execution_count": null,
   "metadata": {},
   "outputs": [],
   "source": [
    "df_join.shape"
   ]
  },
  {
   "cell_type": "code",
   "execution_count": null,
   "metadata": {},
   "outputs": [],
   "source": [
    "print(gis_ean_coor_filtered.EAN.shape)\n",
    "print(len(set(gis_ean_coor_filtered.EAN)))"
   ]
  },
  {
   "cell_type": "code",
   "execution_count": null,
   "metadata": {},
   "outputs": [],
   "source": [
    "gis_ean_coor_filtered[gis_ean_coor_filtered.duplicated('EAN',False)==True].sort_values('EAN')"
   ]
  },
  {
   "cell_type": "code",
   "execution_count": null,
   "metadata": {},
   "outputs": [],
   "source": [
    "print(gis_ean_coor_filtered.loc[576464])\n",
    "print(gis_ean_coor_filtered.loc[144086])"
   ]
  },
  {
   "cell_type": "markdown",
   "metadata": {},
   "source": [
    "Build Network"
   ]
  },
  {
   "cell_type": "code",
   "execution_count": null,
   "metadata": {},
   "outputs": [],
   "source": [
    "# import pandapower as pp\n",
    "\n",
    "# def GenerateBuses(df):\n",
    "# \tbuses = {}\n",
    "# \tvn_kv = 120\n",
    "# \tcolors = []\n",
    "# \tsizes = []\n",
    "# \tfor index, row in df.iterrows():\n",
    "# \t\tgeodata = list(row.geometry.coords)[0]\n",
    "# \t\tbus = pp.create_bus(net, name=f'Bus {index}', vn_kv=vn_kv, geodata=geodata, type='b')\n",
    "# \t\t# net.bus.iloc[bus]['color'] = 'b'\n",
    "# \t\tcolors.append('blue')\n",
    "# \t\tsizes.append(12)\n",
    "# \t\tbuses[geodata] = bus\n",
    "# \tnet.bus['color'] = colors\n",
    "# \tnet.bus['size'] = sizes\n",
    "# \treturn buses\n",
    "\n",
    "# def GenerateLines(df, buses):\n",
    "# \ttype_bus = 'n'\n",
    "# \tvn_kv = 120\n",
    "# \tcolors = list(net.bus['color'].to_numpy())\n",
    "# \tsizes = list(net.bus['size'].to_numpy())\n",
    "# \tbuses = {}\n",
    "# \tm = []\n",
    "# \tfor index, row in df.iterrows():\n",
    "# \t\tgeodata = list(row.geometry.coords)\n",
    "# \t\t# from_bus = net.bus.iloc[buses[geodata[0]]]\n",
    "# \t\t# to_bus = net.bus.iloc[buses[geodata[-1]]]\n",
    "# \t\tfrom_gps = geodata[0]\n",
    "# \t\tif(from_gps in buses.keys()):\n",
    "# \t\t\tfrom_bus = buses[from_gps]\n",
    "# \t\t\tm.append(from_bus)\n",
    "# \t\telse:\t\n",
    "# \t\t\tfrom_bus = pp.create_bus(net, name=f'Bus (from) line {index}', type=type_bus, vn_kv=vn_kv, geodata=from_gps)\n",
    "# \t\t\tbuses[from_gps] = from_bus\n",
    "# \t\t\tcolors.append('red')\n",
    "# \t\t\tsizes.append(6)\n",
    "\t\t\n",
    "# \t\tto_gps = geodata[-1]\n",
    "# \t\tif(to_gps in buses.keys()):\n",
    "# \t\t\tto_bus = pp.create_bus(net, name=f'Bus (to) line {index}', vn_kv=vn_kv, geodata=to_gps)\n",
    "# \t\t\tto_bus = buses[to_gps]\n",
    "# \t\telse:\t\n",
    "# \t\t\tbuses[to_gps] = to_bus\n",
    "# \t\t\tcolors.append('red')\n",
    "# \t\t\tsizes.append(6)\n",
    "\n",
    "# \t\tlength = row.length\n",
    "# \t\tbus = pp.create_line(net, from_bus=from_bus, to_bus=to_bus, std_type='NAYY 4x50 SE', length_km=length/1000.0, name=f'line {index}', geodata=geodata)\n",
    "# \tnet.bus['color'] = colors\n",
    "# \tnet.bus['size'] = sizes\n",
    "# \treturn buses, m\n"
   ]
  },
  {
   "cell_type": "code",
   "execution_count": null,
   "metadata": {},
   "outputs": [],
   "source": [
    "buses"
   ]
  },
  {
   "cell_type": "code",
   "execution_count": null,
   "metadata": {},
   "outputs": [],
   "source": [
    "import pandapower as pp\n",
    "\n",
    "def GenerateBuses(df, s, color, old_buses):\n",
    "\tnew_buses = old_buses\n",
    "\tvn_kv = 120\n",
    "\tcolors = [] if 'color' not in net.bus.columns else list(net.bus['color'])\n",
    "\tsizes = [] if 'size' not in net.bus.columns else list(net.bus['size'])\n",
    "\tcounter = len(net.bus)\n",
    "\tfor index, row in df.iterrows():\n",
    "\t\tgeodata = list(row.geometry.coords)[0]\n",
    "\t\tif(geodata in new_buses.keys()):\n",
    "\t\t\tid = new_buses[geodata]\n",
    "\t\t\tprint(f'There is a bus used more than once: GPS: {geodata}. Bus ID: {id}')\n",
    "\t\t\t# net.bus.loc[id,'color'] = 'black'\n",
    "\t\t\t# net.bus.loc[id,'size'] = s*2\n",
    "\t\t\tcolors[id] = 'black'\n",
    "\t\t\tsizes[id] = s*2\n",
    "\t\telse:\n",
    "\t\t\tbus = pp.create_bus(net, name=f'Bus {counter+index}', vn_kv=vn_kv, geodata=geodata, type='b')\n",
    "\t\t\tcolors.append(color)\n",
    "\t\t\tsizes.append(s)\n",
    "\t\t\tnew_buses[geodata] = bus\n",
    "\tnet.bus['color'] = colors\n",
    "\tnet.bus['size'] = sizes\n",
    "\treturn new_buses\n",
    "\n",
    "def GenerateLines(df, buses):\n",
    "\ttype_bus = 'n'\n",
    "\tvn_kv = 120\n",
    "\tcolors = list(net.bus['color'].to_numpy())\n",
    "\tsizes = list(net.bus['size'].to_numpy())\n",
    "\tbuses = {}\n",
    "\tm = []\n",
    "\tfor index, row in df.iterrows():\n",
    "\t\tgeodata = list(row.geometry.coords)\n",
    "\t\t# from_bus = net.bus.iloc[buses[geodata[0]]]\n",
    "\t\t# to_bus = net.bus.iloc[buses[geodata[-1]]]\n",
    "\t\tfrom_gps = geodata[0]\n",
    "\t\tfrom_bus = pp.create_bus(net, name=f'Bus (from) line {index}', type=type_bus, vn_kv=vn_kv, geodata=from_gps)\n",
    "\t\tif(from_gps in buses.keys()):\n",
    "\t\t\t# from_bus = buses[from_gps]\n",
    "\t\t\tcolors.append('orange')\n",
    "\t\t\tsizes.append(10)\n",
    "\t\t\tm.append(from_bus)\n",
    "\t\telse:\t\n",
    "\t\t\tbuses[from_gps] = from_bus\n",
    "\t\t\tcolors.append('red')\n",
    "\t\t\tsizes.append(6)\n",
    "\t\t\n",
    "\t\tto_gps = geodata[-1]\n",
    "\t\tto_bus = pp.create_bus(net, name=f'Bus (to) line {index}', vn_kv=vn_kv, geodata=to_gps)\n",
    "\t\tif(to_gps in buses.keys()):\n",
    "\t\t\t# to_bus = buses[to_gps]\n",
    "\t\t\tcolors.append('green')\n",
    "\t\t\tsizes.append(10)\n",
    "\t\telse:\t\n",
    "\t\t\tbuses[to_gps] = to_bus\n",
    "\t\t\tcolors.append('red')\n",
    "\t\t\tsizes.append(6)\n",
    "\n",
    "\t\tlength = row.length\n",
    "\t\tbus = pp.create_line(net, from_bus=from_bus, to_bus=to_bus, std_type='NAYY 4x50 SE', length_km=length/1000.0, name=f'line {index}', geodata=geodata)\n",
    "\tnet.bus['color'] = colors\n",
    "\tnet.bus['size'] = sizes\n",
    "\treturn buses, m\n"
   ]
  },
  {
   "cell_type": "code",
   "execution_count": null,
   "metadata": {},
   "outputs": [],
   "source": [
    "#CLEANING\n",
    "#Duplicated GPS location in gis_over_coupe_liste_points\n",
    "#ASSUMPTION: The duplicated are simply dropped \n",
    "duplicated = gis_over_coupe_liste_points[gis_over_coupe_liste_points.duplicated('geometry',False)==True]\n",
    "\n",
    "print(duplicated)\n",
    "print(len(duplicated)/2)\n",
    "\n",
    "#Remove duplicated\n",
    "print(gis_over_coupe_liste_points.shape)\n",
    "gis_over_coupe_liste_points = gis_over_coupe_liste_points[gis_over_coupe_liste_points.duplicated('geometry')==False]\n",
    "print(gis_over_coupe_liste_points.shape)"
   ]
  },
  {
   "cell_type": "code",
   "execution_count": null,
   "metadata": {},
   "outputs": [],
   "source": [
    "from pandapower.plotting.plotly import simple_plotly\n",
    "\n",
    "# gis_over_armoire_points\n",
    "# gis_over_coupe_liste_points\n",
    "    # gis_over_lg_rappel_lines\n",
    "    # gis_over_noms_voiries_lines\n",
    "# gis_over_postes_points\n",
    "# gis_over_supports_points\n",
    "    # gis_over_troncon_lines\n",
    "    # gis_over_voirie_bord_lines\n",
    "\n",
    "net = pp.create_empty_network()\n",
    "\n",
    "s = 6\n",
    "buses = {}\n",
    "print(gis_over_armoire_points.shape)\n",
    "buses = GenerateBuses(gis_over_armoire_points, s, 'blue', buses)\n",
    "print(net.bus.shape)\n",
    "# plot = simple_plotly(net, bus_size=net.bus['size'], bus_color=net.bus['color'])\n",
    "print()"
   ]
  },
  {
   "cell_type": "code",
   "execution_count": null,
   "metadata": {},
   "outputs": [],
   "source": [
    "import time\n",
    "\n",
    "\n",
    "t1 = time.time()\n",
    "buses, m = GenerateLines(gis_under_lines, buses)\n",
    "t2 = time.time()\n",
    "print(f'Execution time: {(t2-t1):.3f}s')"
   ]
  },
  {
   "cell_type": "code",
   "execution_count": null,
   "metadata": {},
   "outputs": [],
   "source": [
    "plot = simple_plotly(net, bus_size=net.bus['size'], bus_color=net.bus['color'])"
   ]
  },
  {
   "cell_type": "code",
   "execution_count": null,
   "metadata": {},
   "outputs": [],
   "source": []
  }
 ],
 "metadata": {
  "kernelspec": {
   "display_name": "Python 3.9.13 ('resa')",
   "language": "python",
   "name": "python3"
  },
  "language_info": {
   "codemirror_mode": {
    "name": "ipython",
    "version": 3
   },
   "file_extension": ".py",
   "mimetype": "text/x-python",
   "name": "python",
   "nbconvert_exporter": "python",
   "pygments_lexer": "ipython3",
   "version": "3.9.13"
  },
  "orig_nbformat": 4,
  "vscode": {
   "interpreter": {
    "hash": "46862f9f3a326249a2312acd78ffe7f45a22ca887e28840d3614e5a972824dd4"
   }
  }
 },
 "nbformat": 4,
 "nbformat_minor": 2
}
