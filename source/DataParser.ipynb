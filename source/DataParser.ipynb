{
 "cells": [
  {
   "cell_type": "code",
   "execution_count": null,
   "metadata": {},
   "outputs": [],
   "source": [
    "import pandas as pd\n",
    "import geopandas as gpd"
   ]
  },
  {
   "cell_type": "code",
   "execution_count": null,
   "metadata": {},
   "outputs": [],
   "source": [
    "import donotcommit\n",
    "asset_lines, asset_points, asset_poly, df_consumption, df_bi_assets = donotcommit.ImportFunc(True)\n",
    "city_of_interest = donotcommit.CityofInterest()"
   ]
  },
  {
   "cell_type": "code",
   "execution_count": null,
   "metadata": {},
   "outputs": [],
   "source": [
    "asset_lines['length'] = asset_lines.length\n",
    "# asset_poly['centroids'] = asset_poly.centroid\n",
    "asset_poly['area'] = asset_poly.area"
   ]
  },
  {
   "cell_type": "code",
   "execution_count": null,
   "metadata": {},
   "outputs": [],
   "source": [
    "#Simple plot \n",
    "ax = asset_points.plot()\n",
    "ax = asset_lines.plot('length', ax=ax, legend=True)\n",
    "asset_poly.plot('area', ax=ax, legend=True)"
   ]
  },
  {
   "cell_type": "code",
   "execution_count": null,
   "metadata": {},
   "outputs": [],
   "source": [
    "#Detailed plot (Belgium map)\n",
    "ax = asset_points.explore()\n",
    "ax = asset_lines.explore('length', legend=True,m=ax)\n",
    "asset_poly.explore( legend=True, m=ax)"
   ]
  },
  {
   "cell_type": "code",
   "execution_count": null,
   "metadata": {},
   "outputs": [],
   "source": [
    "asset_points = asset_points.set_geometry('centroids')\n",
    "ax = asset_points.plot()\n",
    "asset_points.centroids.plot(ax=ax, color='r')"
   ]
  },
  {
   "cell_type": "code",
   "execution_count": null,
   "metadata": {},
   "outputs": [],
   "source": []
  },
  {
   "cell_type": "code",
   "execution_count": null,
   "metadata": {},
   "outputs": [],
   "source": [
    "print(df_consumption.shape)\n",
    "print(df_bi_assets.shape)"
   ]
  },
  {
   "cell_type": "code",
   "execution_count": null,
   "metadata": {},
   "outputs": [],
   "source": [
    "# print(df_consumption.shape)\n",
    "# df_consumption = df_consumption.dropna()\n",
    "# print(df_consumption.shape)"
   ]
  },
  {
   "cell_type": "code",
   "execution_count": null,
   "metadata": {},
   "outputs": [],
   "source": [
    "import unidecode\n",
    "def LocationTransformation(column):\n",
    "\treturn column.apply(lambda x: unidecode.unidecode(str(x).lower()))"
   ]
  },
  {
   "cell_type": "code",
   "execution_count": null,
   "metadata": {},
   "outputs": [],
   "source": [
    "df_consumption['Localité Part. Norm'] = LocationTransformation(df_consumption['Localité Part.'])\n",
    "cities = set(df_consumption['Localité Part. Norm'])\n",
    "print(len(df_consumption[df_consumption['Localité Part. Norm'] == city_of_interest]))\n",
    "print([i for i in cities if i.startswith(city_of_interest[:4])])"
   ]
  },
  {
   "cell_type": "code",
   "execution_count": null,
   "metadata": {},
   "outputs": [],
   "source": [
    "df_bi_assets['LOCALITE_OR Norm'] = LocationTransformation(df_bi_assets['LOCALITE_OR'])\n",
    "cities = set(df_bi_assets['LOCALITE_OR Norm'])\n",
    "print(len(df_bi_assets[df_bi_assets['LOCALITE_OR Norm'] == city_of_interest]))\n",
    "print([i for i in cities if i.startswith(city_of_interest[:4])])"
   ]
  },
  {
   "cell_type": "code",
   "execution_count": null,
   "metadata": {},
   "outputs": [],
   "source": [
    "# df_consumption_sub = df_consumption[df_consumption['Localité Part. Norm'] == city_of_interest]\n",
    "df_consumption_sub = df_consumption[df_consumption['Localité Part. Norm'].str.startswith(city_of_interest[:4])]\n",
    "df_bi_assets_sub = df_bi_assets[df_bi_assets['LOCALITE_OR Norm'] == city_of_interest]"
   ]
  },
  {
   "cell_type": "code",
   "execution_count": null,
   "metadata": {},
   "outputs": [],
   "source": [
    "print(df_consumption_sub.shape)\n",
    "print(df_bi_assets_sub.shape)"
   ]
  },
  {
   "cell_type": "code",
   "execution_count": null,
   "metadata": {},
   "outputs": [],
   "source": [
    "df_consumption_sub['EAN'] = df_consumption_sub['EAN'].astype(float)\n",
    "df_bi_assets_sub['EAN'] = df_bi_assets_sub['EAN'].astype(float)\n",
    "df_join = df_bi_assets_sub.join(df_consumption_sub, on='EAN', rsuffix='r')"
   ]
  },
  {
   "cell_type": "code",
   "execution_count": null,
   "metadata": {},
   "outputs": [],
   "source": [
    "df_join.shape"
   ]
  }
 ],
 "metadata": {
  "kernelspec": {
   "display_name": "Python ('resa')",
   "language": "python",
   "name": "python3"
  },
  "language_info": {
   "codemirror_mode": {
    "name": "ipython",
    "version": 3
   },
   "file_extension": ".py",
   "mimetype": "text/x-python",
   "name": "python",
   "nbconvert_exporter": "python",
   "pygments_lexer": "ipython3",
   "version": "3.9.4"
  },
  "orig_nbformat": 4,
  "vscode": {
   "interpreter": {
    "hash": "25a19fbe0a9132dfb9279d48d161753c6352f8f9478c2e74383d340069b907c3"
   }
  }
 },
 "nbformat": 4,
 "nbformat_minor": 2
}
